{
 "cells": [
  {
   "cell_type": "markdown",
   "metadata": {},
   "source": [
    "# COMP90051 Project 2"
   ]
  },
  {
   "cell_type": "code",
   "execution_count": 1,
   "metadata": {},
   "outputs": [],
   "source": [
    "# Do not edit. These are the only imports permitted.\n",
    "import numpy as np\n",
    "from abc import ABC, abstractmethod\n",
    "from sklearn.tree import DecisionTreeClassifier   # for Task 4\n",
    "from sklearn.base import clone                    # optional for Task 4\n",
    "import matplotlib.pyplot as plt                   # for Task 5\n",
    "from sklearn.metrics.pairwise import rbf_kernel   # for Task 6"
   ]
  },
  {
   "cell_type": "code",
   "execution_count": 2,
   "metadata": {},
   "outputs": [],
   "source": [
    "class MAB(ABC):\n",
    "    \"\"\"Base class for a contextual multi-armed bandit (MAB)\n",
    "    \n",
    "    Parameters\n",
    "    ----------\n",
    "    n_arms : int\n",
    "        Number of arms.\n",
    "    \"\"\"\n",
    "    def __init__(self, n_arms):\n",
    "        if not np.issubdtype(type(n_arms), np.integer):\n",
    "            raise TypeError(\"`n_arms` must be an integer\")\n",
    "        if not n_arms >= 0:\n",
    "            raise ValueError(\"`n_arms` must be non-negative\")\n",
    "        self.n_arms = n_arms\n",
    "        # your code here (if you like)\n",
    "        \n",
    "    @abstractmethod\n",
    "    def play(self, context):\n",
    "        \"\"\"Play a round\n",
    "        \n",
    "        Parameters\n",
    "        ----------        \n",
    "        context : float numpy.ndarray, shape (n_arms, n_dims), optional\n",
    "            An array of context vectors presented to the MAB. The 0-th \n",
    "            axis indexes the arms, and the 1-st axis indexes the features.\n",
    "            Non-contextual bandits accept a context of None.\n",
    "        \n",
    "        Returns\n",
    "        -------\n",
    "        arm : int\n",
    "            Integer index of the arm played this round. Should be in the set \n",
    "            {0, ..., n_arms - 1}.\n",
    "        \"\"\"\n",
    "        # your code here (if you like)\n",
    "    \n",
    "    @abstractmethod\n",
    "    def update(self, arm, reward, context):\n",
    "        \"\"\"Update the internal state of the MAB after a play\n",
    "        \n",
    "        Parameters\n",
    "        ----------\n",
    "        arm : int\n",
    "            Integer index of the played arm in the set {0, ..., n_arms - 1}.\n",
    "        \n",
    "        reward : float\n",
    "            Reward received from the arm.\n",
    "        \n",
    "        context : float numpy.ndarray, shape (n_arms, n_dims), optional\n",
    "            An array of context vectors that was presented to the MAB. The \n",
    "            0-th axis indexes the arms, and the 1-st axis indexes the \n",
    "            features. Non-contextual bandits accept a context of None. \n",
    "        \"\"\"\n",
    "        # your code here (if you like)"
   ]
  },
  {
   "cell_type": "code",
   "execution_count": 3,
   "metadata": {},
   "outputs": [],
   "source": [
    "# Define global functions here, if required"
   ]
  },
  {
   "cell_type": "markdown",
   "metadata": {},
   "source": [
    "## 1. Implement ε-greedy and UCB MABs"
   ]
  },
  {
   "cell_type": "code",
   "execution_count": 4,
   "metadata": {},
   "outputs": [],
   "source": [
    "class EpsGreedy(MAB):\n",
    "    \"\"\"Epsilon-Greedy multi-armed bandit\n",
    "\n",
    "    Parameters\n",
    "    ----------\n",
    "    n_arms : int\n",
    "        Number of arms\n",
    "\n",
    "    epsilon : float\n",
    "        Explore probability. Must be in the interval [0, 1].\n",
    "\n",
    "    Q0 : float, default=np.inf\n",
    "        Initial value for the arms.\n",
    "    \"\"\"\n",
    "    def __init__(self, n_arms, epsilon, Q0=np.inf):\n",
    "        super().__init__(n_arms)\n",
    "        # your code here\n",
    "        if epsilon < 0:\n",
    "            raise ValueError(\"`epsilon` must be non-negative\")\n",
    "        if Q0 < 0:\n",
    "            raise ValueError(\"`initial Q-value` must be non-negative\")\n",
    "            \n",
    "        self.epsilon = epsilon\n",
    "        self.q0 = Q0\n",
    "        self.rewards = [self.q0] * self.n_arms\n",
    "        self.counts = [0] * self.n_arms\n",
    "    \n",
    "    def play(self, context=None):\n",
    "        super().play(context)\n",
    "        # your code here\n",
    "        \n",
    "        if np.random.random() < self.epsilon:\n",
    "            arm = np.random.randint(0, self.n_arms)\n",
    "        else:\n",
    "            # compute q values\n",
    "            q_values = []\n",
    "            for i in range(self.n_arms):\n",
    "                if self.counts[i] > 0:\n",
    "                    q_values.append(self.rewards[i] / self.counts[i])\n",
    "                else:\n",
    "                    q_values.append(self.q0)\n",
    "            _max = max(q_values)\n",
    "            \n",
    "            # select all the arms with max q value\n",
    "            if _max == self.q0:\n",
    "                _maxi = [i for i in range(self.n_arms) if q_values[i] == _max]\n",
    "            else:\n",
    "                _maxi = [i for i in range(self.n_arms) if abs(q_values[i] - _max) < 0.00001]\n",
    "            arm = np.random.choice(_maxi)\n",
    "        return arm\n",
    "        \n",
    "    def update(self, arm, reward, context=None):\n",
    "        super().update(arm, reward, context)\n",
    "        if arm < 0 or arm >= self.n_arms:\n",
    "            raise ValueError(\"invalid arm\")\n",
    "            \n",
    "        # your code here\n",
    "        self.counts[arm] += 1\n",
    "        if self.rewards[arm] == self.q0:\n",
    "            self.rewards[arm] = reward\n",
    "        else:\n",
    "            self.rewards[arm] += reward"
   ]
  },
  {
   "cell_type": "code",
   "execution_count": 5,
   "metadata": {},
   "outputs": [],
   "source": [
    "class UCB(MAB):\n",
    "    \"\"\"Upper Confidence Bound (UCB) multi-armed bandit\n",
    "\n",
    "    Parameters\n",
    "    ----------\n",
    "    n_arms : int\n",
    "        Number of arms.\n",
    "\n",
    "    rho : float\n",
    "        Positive real explore-exploit parameter.\n",
    "\n",
    "    Q0 : float, default=np.inf\n",
    "        Initial value for the arms.\n",
    "    \"\"\"\n",
    "    def __init__(self, n_arms, rho, Q0=np.inf):\n",
    "        super().__init__(n_arms)\n",
    "        # your code here\n",
    "        if rho <= 0:\n",
    "            raise ValueError(\"`rho` must be positive\")\n",
    "        if Q0 < 0:\n",
    "            raise ValueError(\"`initial Q-value` must be non-negative\")\n",
    "            \n",
    "        self.rho = rho\n",
    "        self.q0 = Q0\n",
    "        self.counts = [0] * self.n_arms\n",
    "        self.rewards = [self.q0] * self.n_arms\n",
    "        self.t = 1\n",
    "    \n",
    "    def play(self, context=None):\n",
    "        super().play(context)\n",
    "        # your code here\n",
    "        \n",
    "        # compute q values\n",
    "        q_values = []\n",
    "        for i in range(self.n_arms):\n",
    "            if self.counts[i] > 0:\n",
    "                q_values.append(self.rewards[i]  / self.counts[i]\n",
    "                               + np.sqrt(self.rho * np.log(self.t) / self.counts[i]))\n",
    "            else:\n",
    "                q_values.append(self.q0)\n",
    "        _max = max(q_values)\n",
    "        \n",
    "        # select all the arms with max q value\n",
    "        if _max == self.q0:\n",
    "            _maxi = [i for i in range(self.n_arms) if q_values[i] == _max]\n",
    "        else:\n",
    "            _maxi = [i for i in range(self.n_arms) if abs(q_values[i] - _max) < 0.00001]\n",
    "        arm = np.random.choice(_maxi)\n",
    "        return arm\n",
    "        \n",
    "    def update(self, arm, reward, context=None):\n",
    "        super().update(arm, reward, context)\n",
    "        # your code here\n",
    "        if arm < 0 or arm >= self.n_arms:\n",
    "            raise ValueError(\"invalid arm\")\n",
    "            \n",
    "        self.t += 1\n",
    "        self.counts[arm] += 1\n",
    "        if self.rewards[arm] == self.q0:\n",
    "            self.rewards[arm] = reward\n",
    "        else:\n",
    "            self.rewards[arm] += reward"
   ]
  },
  {
   "cell_type": "markdown",
   "metadata": {},
   "source": [
    "## 2. Implement off-policy evaluation"
   ]
  },
  {
   "cell_type": "code",
   "execution_count": 6,
   "metadata": {},
   "outputs": [],
   "source": [
    "def offlineEvaluate(mab, arms, rewards, contexts, n_rounds=None):\n",
    "    \"\"\"Offline evaluation of a multi-armed bandit\n",
    "    \n",
    "    Parameters\n",
    "    ----------\n",
    "    mab : instance of MAB\n",
    "        MAB to evaluate.\n",
    "    \n",
    "    arms : integer numpy.ndarray, shape (n_events,) \n",
    "        Array containing the history of pulled arms, represented as integer \n",
    "        indices in the set {0, ..., mab.n_arms}\n",
    "    \n",
    "    rewards : float numpy.ndarray, shape (n_events,)\n",
    "        Array containing the history of rewards.\n",
    "    \n",
    "    contexts : float numpy.ndarray, shape (n_events, n_arms, n_dims)\n",
    "        Array containing the history of contexts presented to the arms. \n",
    "        The 0-th axis indexes the events in the history, the 1-st axis \n",
    "        indexes the arms and the 2-nd axis indexed the features.\n",
    "        \n",
    "    n_rounds : int, default=None\n",
    "        Number of matching events to evaluate the MAB on. If None, \n",
    "        continue evaluating until the historical events are exhausted.\n",
    "    \n",
    "    Returns\n",
    "    -------\n",
    "    out : float numpy.ndarray\n",
    "        Rewards for the matching events.\n",
    "    \"\"\"\n",
    "    # your code here\n",
    "    if not isinstance(arms,np.ndarray):\n",
    "        raise ValueError(\"arms is not numpy array\")\n",
    "    if not isinstance(rewards,np.ndarray):\n",
    "        raise ValueError(\"rewards is not numpy array\")\n",
    "    if not isinstance(contexts,np.ndarray):\n",
    "        raise ValueError(\"contexts is not numpy array\")\n",
    "    if rewards.shape[0] != arms.shape[0] or contexts.shape[0] != arms.shape[0]:\n",
    "        raise ValueError(\"data shape invalid\")\n",
    "    if contexts.shape[1] != mab.n_arms:\n",
    "        raise ValueError(\"number of arms in contexts is wrong\")\n",
    "        \n",
    "    _return = []\n",
    "    history = []\n",
    "    R = 0\n",
    "    \n",
    "    if n_rounds == None:\n",
    "        while mab.play(contexts[i]) != arms[i] and i < len(arms):\n",
    "            i += 1\n",
    "\n",
    "            if i == len(arms):\n",
    "                break\n",
    "\n",
    "            arm = arms[i]\n",
    "            reward = rewards[i]\n",
    "            R += reward\n",
    "\n",
    "            history.append((contexts[i], arm, reward))\n",
    "            mab.update(arm, reward, contexts[i])\n",
    "            _return.append(reward)\n",
    "#             _return.append(R/(t+1))\n",
    "            i += 1\n",
    "    else:\n",
    "        if not np.issubdtype(type(n_rounds), np.integer):\n",
    "            raise TypeError(\"`n_rounds` must be an integer\")\n",
    "        i = 0\n",
    "        for t in range(n_rounds):\n",
    "            while mab.play(contexts[i]) != arms[i] and i < len(arms):\n",
    "                i += 1\n",
    "\n",
    "            if i == len(arms):\n",
    "                break\n",
    "\n",
    "            arm = arms[i]\n",
    "            reward = rewards[i]\n",
    "            R += reward\n",
    "\n",
    "            history.append((contexts[i], arm, reward))\n",
    "            mab.update(arm, reward, contexts[i])\n",
    "            _return.append(reward)\n",
    "#             _return.append(R/(t+1))\n",
    "            i += 1\n",
    "\n",
    "    return np.array(_return)"
   ]
  },
  {
   "cell_type": "code",
   "execution_count": 7,
   "metadata": {},
   "outputs": [
    {
     "name": "stdout",
     "output_type": "stream",
     "text": [
      "(10000,)\n",
      "(10000,)\n",
      "(10000, 10, 10)\n"
     ]
    }
   ],
   "source": [
    "# load dataset here\n",
    "arms = []\n",
    "rewards = []\n",
    "contexts = []\n",
    "\n",
    "with open(\"dataset.txt\", \"r\") as f:\n",
    "    lines = f.readlines()\n",
    "\n",
    "num = len(lines)\n",
    "for i in range(num):\n",
    "    data = [d for d in lines[i].split()]\n",
    "    arms.append(int(data[0]))\n",
    "    rewards.append(float(data[1]))\n",
    "    \n",
    "    context = []\n",
    "    s = 2\n",
    "    e = 12\n",
    "    for j in range(10):\n",
    "        x = data[s:e]\n",
    "        x = [float(z) for z in x]\n",
    "        if len(x) != 10:\n",
    "            raise ValueError(\"invalid feature vector format\")\n",
    "            \n",
    "        context.append(x)\n",
    "        s = e\n",
    "        e = s+10\n",
    "    contexts.append(context)\n",
    "\n",
    "arms = np.array(arms)\n",
    "rewards = np.array(rewards)\n",
    "contexts = np.array(contexts)\n",
    "\n",
    "print(arms.shape)\n",
    "print(rewards.shape)\n",
    "print(contexts.shape)"
   ]
  },
  {
   "cell_type": "code",
   "execution_count": 8,
   "metadata": {},
   "outputs": [
    {
     "name": "stdout",
     "output_type": "stream",
     "text": [
      "EpsGreedy average reward 0.26375\n"
     ]
    }
   ],
   "source": [
    "mab = EpsGreedy(10, 0.05)\n",
    "results_EpsGreedy = offlineEvaluate(mab, arms, rewards, contexts, 800)\n",
    "print('EpsGreedy average reward', np.mean(results_EpsGreedy))"
   ]
  },
  {
   "cell_type": "code",
   "execution_count": 9,
   "metadata": {},
   "outputs": [
    {
     "name": "stdout",
     "output_type": "stream",
     "text": [
      "UCB average reward 0.1375\n"
     ]
    }
   ],
   "source": [
    "mab = UCB(10, 2.0)\n",
    "results_UCB = offlineEvaluate(mab, arms, rewards, contexts, 800)\n",
    "print('UCB average reward', np.mean(results_UCB))"
   ]
  },
  {
   "cell_type": "markdown",
   "metadata": {},
   "source": [
    "## 3. Implement LinUCB contextual MAB"
   ]
  },
  {
   "cell_type": "code",
   "execution_count": 10,
   "metadata": {},
   "outputs": [],
   "source": [
    "# http://d0evi1.com/linucb/\n",
    "# I used this translated paper to understand the algorithm\n",
    "class LinUCB(MAB):\n",
    "    \"\"\"Contextual multi-armed bandit (LinUCB)\n",
    "\n",
    "    Parameters\n",
    "    ----------\n",
    "    n_arms : int\n",
    "        Number of arms.\n",
    "\n",
    "    n_dims : int\n",
    "        Number of features for each arm's context.\n",
    "\n",
    "    alpha : float\n",
    "        Positive real explore-exploit parameter.\n",
    "    \"\"\"\n",
    "    def __init__(self, n_arms, n_dims, alpha):\n",
    "        super().__init__(n_arms)\n",
    "        # your code here\n",
    "        if n_dims <= 0:\n",
    "            raise ValueError(\"'n_dims' must be positive\")\n",
    "        if alpha < 0:\n",
    "            raise ValueError(\"`alpha` must be non-negative\")\n",
    "            \n",
    "        self.n_dims = n_dims\n",
    "        self.alpha = alpha\n",
    "        self.A = [np.identity(self.n_dims) for i in range(self.n_arms)]\n",
    "        self.c = [np.zeros(self.n_dims) for i in range(self.n_arms)]\n",
    "    \n",
    "    def play(self, context):\n",
    "        super().play(context)\n",
    "        # your code here\n",
    "        if len(context) != self.n_arms:\n",
    "            raise ValueError(\"number of context is wrong\")\n",
    "            \n",
    "        p_list = []\n",
    "        for a in range(self.n_arms):                \n",
    "            A_a_i = np.linalg.inv(self.A[a])\n",
    "            c_a = self.c[a]\n",
    "            x_a = context[a]\n",
    "            \n",
    "            theta_hat_a = A_a_i @ c_a\n",
    "            p = theta_hat_a.T @ x_a + self.alpha * np.sqrt(x_a.T @ A_a_i @ x_a)\n",
    "            p_list.append(p)\n",
    "            \n",
    "        _max = max(p_list)\n",
    "        _maxi = [i for i in range(self.n_arms) if abs(p_list[i] - _max) < 0.00001]\n",
    "\n",
    "        return np.random.choice(_maxi)\n",
    "    \n",
    "    def update(self, arm, reward, context):\n",
    "        super().update(arm, reward, context)\n",
    "        # your code here\n",
    "        if arm < 0 or arm >= self.n_arms:\n",
    "            raise ValueError(\"invalid arm\")\n",
    "        if len(context) != self.n_arms:\n",
    "            raise ValueError(\"number of context is wrong\")\n",
    "            \n",
    "        self.A[arm] += context[arm] @ context[arm].T\n",
    "        self.c[arm] += reward * context[arm]"
   ]
  },
  {
   "cell_type": "code",
   "execution_count": 11,
   "metadata": {},
   "outputs": [
    {
     "name": "stdout",
     "output_type": "stream",
     "text": [
      "LinUCB average reward 0.2675\n"
     ]
    }
   ],
   "source": [
    "mab = LinUCB(10, 10, 1.0)\n",
    "results_LinUCB = offlineEvaluate(mab, arms, rewards, contexts, 800)\n",
    "print('LinUCB average reward', np.mean(results_LinUCB))"
   ]
  },
  {
   "cell_type": "markdown",
   "metadata": {},
   "source": [
    "## 4. Implement TreeBootstrap contextual MAB"
   ]
  },
  {
   "cell_type": "code",
   "execution_count": 12,
   "metadata": {},
   "outputs": [],
   "source": [
    "class TreeBootstrap(MAB):\n",
    "    \"\"\"Contextual Thompson sampled multi-armed bandit (TreeBootstrap)\n",
    "\n",
    "    Parameters\n",
    "    ----------\n",
    "    n_arms : int\n",
    "        Number of arms.\n",
    "\n",
    "    n_dims : int\n",
    "        Number of features for each arm's context.\n",
    "\n",
    "    tree : instance of sklearn.tree.DecisionTreeClassifier, optional\n",
    "        Decision tree to use for predicting the expected future reward. \n",
    "        Defaults to sklearn.tree.DecisionTreeClassifier().\n",
    "    \"\"\"\n",
    "    def __init__(self, n_arms, n_dims, tree=DecisionTreeClassifier()):\n",
    "        super().__init__(n_arms)\n",
    "        # your code here\n",
    "        if n_dims <= 0:\n",
    "            raise ValueError(\"'n_dims' must be positive\")\n",
    "        \n",
    "        self.n_dims = n_dims\n",
    "        self.D = [[] for i in range(self.n_arms)]\n",
    "        self.trees = [clone(tree) for i in range(self.n_arms)]\n",
    "        \n",
    "    def play(self, context):\n",
    "        super().play(context)\n",
    "        # your code here\n",
    "        \n",
    "        predicts = [0] * self.n_arms\n",
    "        for i in range(self.n_arms):\n",
    "            if len(self.D[i]) == 0:\n",
    "                predicts[i] = 1\n",
    "            else:\n",
    "                D_hat = np.random.choice(len(self.D[i]), len(self.D[i]))\n",
    "                X = []\n",
    "                Y = []\n",
    "                for t in D_hat:\n",
    "                    x, y = self.D[i][t]\n",
    "                    X.append(x)\n",
    "                    Y.append(y)\n",
    "                self.trees[i].fit(X, Y)\n",
    "                predicts[i] = self.trees[i].predict([context[i]])[0]\n",
    "        _max = max(predicts)\n",
    "        _maxi = [i for i in range(self.n_arms) if abs(predicts[i] - _max) < 0.00001]\n",
    "        arm = np.random.choice(_maxi)\n",
    "        \n",
    "        return arm\n",
    "    \n",
    "    def update(self, arm, reward, context):\n",
    "        super().update(arm, reward, context)\n",
    "        # your code here\n",
    "        if len(self.D[arm]) == 0:\n",
    "            self.D[arm].append((context[arm], 0))\n",
    "            self.D[arm].append((context[arm], 1))\n",
    "        self.D[arm].append((context[arm], reward))"
   ]
  },
  {
   "cell_type": "code",
   "execution_count": 13,
   "metadata": {},
   "outputs": [
    {
     "name": "stdout",
     "output_type": "stream",
     "text": [
      "TreeBootstrap average reward 0.67625\n"
     ]
    }
   ],
   "source": [
    "mab = TreeBootstrap(10, 10)\n",
    "results_TreeBootstrap = offlineEvaluate(mab, arms, rewards, contexts, 800)\n",
    "print('TreeBootstrap average reward', np.mean(results_TreeBootstrap))"
   ]
  },
  {
   "cell_type": "markdown",
   "metadata": {},
   "source": [
    "## 5. Evaluation and hyperparameter tuning for LinUCB\n",
    "### 5.A."
   ]
  },
  {
   "cell_type": "code",
   "execution_count": 14,
   "metadata": {},
   "outputs": [
    {
     "data": {
      "image/png": "[encoded data removed]",
      "text/plain": [
       "<Figure size 432x288 with 1 Axes>"
      ]
     },
     "metadata": {
      "needs_background": "light"
     },
     "output_type": "display_data"
    }
   ],
   "source": [
    "# your code here\n",
    "mabs = [\n",
    "    EpsGreedy(10, 0.05),\n",
    "    UCB(10, 2.0),\n",
    "    LinUCB(10, 10, 1.0),\n",
    "    TreeBootstrap(10, 10)\n",
    "]\n",
    "names = [\n",
    "    'e-Greedy',\n",
    "    'UCB',\n",
    "    'LinUCB',\n",
    "    'TreeBootStrap'\n",
    "]\n",
    "\n",
    "x = list(range(1, 801))\n",
    "for i in range(len(mabs)):\n",
    "    results = offlineEvaluate(mabs[i], arms, rewards, contexts, 800)\n",
    "    y = []\n",
    "    for T in x:\n",
    "        y.append(np.mean(results[:T]))\n",
    "    plt.plot(x, y, label = names[i]) \n",
    "\n",
    "plt.xlabel('rounds') \n",
    "plt.ylabel('average cumulative reward per round') \n",
    "plt.legend() \n",
    "plt.show() "
   ]
  },
  {
   "cell_type": "markdown",
   "metadata": {},
   "source": [
    "### 5.B."
   ]
  },
  {
   "cell_type": "code",
   "execution_count": 31,
   "metadata": {},
   "outputs": [
    {
     "data": {
      "image/png": "[encoded data removed]",
      "text/plain": [
       "<Figure size 432x288 with 1 Axes>"
      ]
     },
     "metadata": {
      "needs_background": "light"
     },
     "output_type": "display_data"
    },
    {
     "name": "stdout",
     "output_type": "stream",
     "text": [
      "best alpha is: 0.5  with value: 0.27125\n"
     ]
    }
   ],
   "source": [
    "# your code here\n",
    "alphas = [0.1, 0.2, 0.3, 0.4, 0.5, 0.6, 0.7, 0.8, 0.9, 1.0, 1.1, 1.2, 1.3, 1.4, 1.5]\n",
    "results = []\n",
    "for alpha in alphas:\n",
    "    results.append(np.mean(offlineEvaluate(LinUCB(10, 10, alpha), arms, rewards, contexts, 800)))\n",
    "plt.plot(alphas, results) \n",
    "    \n",
    "plt.xlabel('alphas') \n",
    "plt.ylabel('average cumulative reward per round') \n",
    "plt.show() \n",
    "\n",
    "_max = max([(results[i], alphas[i]) for i in range(len(results))])\n",
    "print(\"best alpha is:\", _max[1], \" with value:\", _max[0])"
   ]
  },
  {
   "cell_type": "markdown",
   "metadata": {},
   "source": [
    "## 6. Implement KernelUCB contextual MAB"
   ]
  },
  {
   "cell_type": "code",
   "execution_count": 42,
   "metadata": {},
   "outputs": [],
   "source": [
    "class KernelUCB(MAB):\n",
    "    \"\"\"Kernelised contextual multi-armed bandit (Kernelised LinUCB)\n",
    "    \n",
    "    Parameters\n",
    "    ----------\n",
    "    n_arms : int\n",
    "        Number of arms.\n",
    "\n",
    "    n_dims : int\n",
    "        Number of features for each arm's context.\n",
    "\n",
    "    gamma : float\n",
    "        Positive real explore-exploit parameter.\n",
    "    \n",
    "    eta : float\n",
    "        Positive real explore-exploit parameter.\n",
    "    \n",
    "    kern : callable\n",
    "        A kernel function from sklearn.metrics.pairwise.\n",
    "    \"\"\"\n",
    "    def __init__(self, n_arms, n_dims, gamma, eta, kern):\n",
    "        super().__init__(n_arms)\n",
    "        # your code here\n",
    "        if n_dims <= 0:\n",
    "            raise ValueError(\"'n_dims' must be positive\")\n",
    "        if gamma <= 0:\n",
    "            raise ValueError(\"'gamma' must be positive\")\n",
    "        if eta <= 0:\n",
    "            raise ValueError(\"'eta' must be positive\")\n",
    "        self.n_dims = n_dims\n",
    "        self.gamma = gamma\n",
    "        self.eta = eta\n",
    "        self.kernal = kern\n",
    "        \n",
    "        self.rewards = []\n",
    "        self.x_t = [[] for i in range(self.n_arms)]\n",
    "        self.y_t1 = []\n",
    "        self.K_inv1 = None\n",
    "        \n",
    "    def play(self, context):\n",
    "        super().play(context)\n",
    "        # your code here\n",
    "        u = np.array([0] * self.n_arms)\n",
    "        if len(rewards) == 0:\n",
    "            u[0] = 1\n",
    "            u = u.T\n",
    "        else:\n",
    "            for a in range(self.n_arms):\n",
    "                b = np.array([self.kernal(x, x) for x in self.x_t[a]]).T\n",
    "                o_a = np.sqrt(self.kernal(context[a], context[a]) - b.T @ self.K_inv1 @ b)\n",
    "                u[a] = b.T @ self.K_inv1 @ self.y_t1 + self.eta / np.sqrt(self.gamma) * o_a\n",
    "        _max = max(u)\n",
    "        _maxi = [i for i in range(self.n_arms) if abs(u[i]-_max) < 0.00001]\n",
    "        arm = np.random.choice(_maxi)\n",
    "        return arm\n",
    "            \n",
    "    \n",
    "    def update(self, arm, reward, context):\n",
    "        super().update(arm, reward, context)\n",
    "        # your code here\n",
    "        self.x_t[arm].append(context[arm])\n",
    "        self.rewards.append(reward)\n",
    "        self.y_t1 = np.array(self.rewards).T\n",
    "        if len(self.rewards) == 1:\n",
    "            self.K_inv1 = 1 / (self.kernal(context[arm], context[arm]) + self.gamma)\n",
    "        else:\n",
    "            b = np.array([self.kernal(x, x) for x in self.x_t[arm]]).T\n",
    "            K22 = 1 / (self.kernal(context[arm], context[arm]) + self.gamma - b.T @ self.K_inv1 @ b)\n",
    "            K11 = self.K_inv1 + K22 @ self.K_inv1 @ b @ b.T @ self.K_inv1\n",
    "            K12 = -K22 @ b.T @ self.K_inv1\n",
    "            self.K_inv1 = np.array([K11, K12, K21, K22])"
   ]
  },
  {
   "cell_type": "code",
   "execution_count": 43,
   "metadata": {},
   "outputs": [
    {
     "ename": "ValueError",
     "evalue": "matmul: Input operand 1 does not have enough dimensions (has 0, gufunc core with signature (n?,k),(k,m?)->(n?,m?) requires 1)",
     "output_type": "error",
     "traceback": [
      "\u001b[0;31m---------------------------------------------------------------------------\u001b[0m",
      "\u001b[0;31mValueError\u001b[0m                                Traceback (most recent call last)",
      "\u001b[0;32m<ipython-input-43-b101fba777ea>\u001b[0m in \u001b[0;36m<module>\u001b[0;34m\u001b[0m\n\u001b[1;32m      1\u001b[0m \u001b[0mmab\u001b[0m \u001b[0;34m=\u001b[0m \u001b[0mKernelUCB\u001b[0m\u001b[0;34m(\u001b[0m\u001b[0;36m10\u001b[0m\u001b[0;34m,\u001b[0m \u001b[0;36m10\u001b[0m\u001b[0;34m,\u001b[0m \u001b[0;36m1.0\u001b[0m\u001b[0;34m,\u001b[0m \u001b[0;36m0.1\u001b[0m\u001b[0;34m,\u001b[0m \u001b[0mrbf_kernel\u001b[0m\u001b[0;34m)\u001b[0m\u001b[0;34m\u001b[0m\u001b[0;34m\u001b[0m\u001b[0m\n\u001b[0;32m----> 2\u001b[0;31m \u001b[0mresults_KernelUCB\u001b[0m \u001b[0;34m=\u001b[0m \u001b[0mofflineEvaluate\u001b[0m\u001b[0;34m(\u001b[0m\u001b[0mmab\u001b[0m\u001b[0;34m,\u001b[0m \u001b[0marms\u001b[0m\u001b[0;34m,\u001b[0m \u001b[0mrewards\u001b[0m\u001b[0;34m,\u001b[0m \u001b[0mcontexts\u001b[0m\u001b[0;34m,\u001b[0m \u001b[0;36m800\u001b[0m\u001b[0;34m)\u001b[0m\u001b[0;34m\u001b[0m\u001b[0;34m\u001b[0m\u001b[0m\n\u001b[0m\u001b[1;32m      3\u001b[0m \u001b[0mprint\u001b[0m\u001b[0;34m(\u001b[0m\u001b[0;34m'KernelUCB average reward'\u001b[0m\u001b[0;34m,\u001b[0m \u001b[0mnp\u001b[0m\u001b[0;34m.\u001b[0m\u001b[0mmean\u001b[0m\u001b[0;34m(\u001b[0m\u001b[0mresults_KernelUCB\u001b[0m\u001b[0;34m)\u001b[0m\u001b[0;34m)\u001b[0m\u001b[0;34m\u001b[0m\u001b[0;34m\u001b[0m\u001b[0m\n",
      "\u001b[0;32m<ipython-input-6-d6c565000bfc>\u001b[0m in \u001b[0;36mofflineEvaluate\u001b[0;34m(mab, arms, rewards, contexts, n_rounds)\u001b[0m\n\u001b[1;32m     65\u001b[0m         \u001b[0mi\u001b[0m \u001b[0;34m=\u001b[0m \u001b[0;36m0\u001b[0m\u001b[0;34m\u001b[0m\u001b[0;34m\u001b[0m\u001b[0m\n\u001b[1;32m     66\u001b[0m         \u001b[0;32mfor\u001b[0m \u001b[0mt\u001b[0m \u001b[0;32min\u001b[0m \u001b[0mrange\u001b[0m\u001b[0;34m(\u001b[0m\u001b[0mn_rounds\u001b[0m\u001b[0;34m)\u001b[0m\u001b[0;34m:\u001b[0m\u001b[0;34m\u001b[0m\u001b[0;34m\u001b[0m\u001b[0m\n\u001b[0;32m---> 67\u001b[0;31m             \u001b[0;32mwhile\u001b[0m \u001b[0mmab\u001b[0m\u001b[0;34m.\u001b[0m\u001b[0mplay\u001b[0m\u001b[0;34m(\u001b[0m\u001b[0mcontexts\u001b[0m\u001b[0;34m[\u001b[0m\u001b[0mi\u001b[0m\u001b[0;34m]\u001b[0m\u001b[0;34m)\u001b[0m \u001b[0;34m!=\u001b[0m \u001b[0marms\u001b[0m\u001b[0;34m[\u001b[0m\u001b[0mi\u001b[0m\u001b[0;34m]\u001b[0m \u001b[0;32mand\u001b[0m \u001b[0mi\u001b[0m \u001b[0;34m<\u001b[0m \u001b[0mlen\u001b[0m\u001b[0;34m(\u001b[0m\u001b[0marms\u001b[0m\u001b[0;34m)\u001b[0m\u001b[0;34m:\u001b[0m\u001b[0;34m\u001b[0m\u001b[0;34m\u001b[0m\u001b[0m\n\u001b[0m\u001b[1;32m     68\u001b[0m                 \u001b[0mi\u001b[0m \u001b[0;34m+=\u001b[0m \u001b[0;36m1\u001b[0m\u001b[0;34m\u001b[0m\u001b[0;34m\u001b[0m\u001b[0m\n\u001b[1;32m     69\u001b[0m \u001b[0;34m\u001b[0m\u001b[0m\n",
      "\u001b[0;32m<ipython-input-42-f276e18fce4c>\u001b[0m in \u001b[0;36mplay\u001b[0;34m(self, context)\u001b[0m\n\u001b[1;32m     48\u001b[0m             \u001b[0;32mfor\u001b[0m \u001b[0ma\u001b[0m \u001b[0;32min\u001b[0m \u001b[0mrange\u001b[0m\u001b[0;34m(\u001b[0m\u001b[0mself\u001b[0m\u001b[0;34m.\u001b[0m\u001b[0mn_arms\u001b[0m\u001b[0;34m)\u001b[0m\u001b[0;34m:\u001b[0m\u001b[0;34m\u001b[0m\u001b[0;34m\u001b[0m\u001b[0m\n\u001b[1;32m     49\u001b[0m                 \u001b[0mb\u001b[0m \u001b[0;34m=\u001b[0m \u001b[0mnp\u001b[0m\u001b[0;34m.\u001b[0m\u001b[0marray\u001b[0m\u001b[0;34m(\u001b[0m\u001b[0;34m[\u001b[0m\u001b[0mself\u001b[0m\u001b[0;34m.\u001b[0m\u001b[0mkernal\u001b[0m\u001b[0;34m(\u001b[0m\u001b[0mx\u001b[0m\u001b[0;34m,\u001b[0m \u001b[0mx\u001b[0m\u001b[0;34m)\u001b[0m \u001b[0;32mfor\u001b[0m \u001b[0mx\u001b[0m \u001b[0;32min\u001b[0m \u001b[0mself\u001b[0m\u001b[0;34m.\u001b[0m\u001b[0mx_t\u001b[0m\u001b[0;34m[\u001b[0m\u001b[0ma\u001b[0m\u001b[0;34m]\u001b[0m\u001b[0;34m]\u001b[0m\u001b[0;34m)\u001b[0m\u001b[0;34m.\u001b[0m\u001b[0mT\u001b[0m\u001b[0;34m\u001b[0m\u001b[0;34m\u001b[0m\u001b[0m\n\u001b[0;32m---> 50\u001b[0;31m                 \u001b[0mo_a\u001b[0m \u001b[0;34m=\u001b[0m \u001b[0mnp\u001b[0m\u001b[0;34m.\u001b[0m\u001b[0msqrt\u001b[0m\u001b[0;34m(\u001b[0m\u001b[0mself\u001b[0m\u001b[0;34m.\u001b[0m\u001b[0mkernal\u001b[0m\u001b[0;34m(\u001b[0m\u001b[0;34m[\u001b[0m\u001b[0mcontext\u001b[0m\u001b[0;34m[\u001b[0m\u001b[0ma\u001b[0m\u001b[0;34m]\u001b[0m\u001b[0;34m]\u001b[0m\u001b[0;34m,\u001b[0m \u001b[0;34m[\u001b[0m\u001b[0mcontext\u001b[0m\u001b[0;34m[\u001b[0m\u001b[0ma\u001b[0m\u001b[0;34m]\u001b[0m\u001b[0;34m]\u001b[0m\u001b[0;34m)\u001b[0m \u001b[0;34m-\u001b[0m \u001b[0mb\u001b[0m\u001b[0;34m.\u001b[0m\u001b[0mT\u001b[0m \u001b[0;34m@\u001b[0m \u001b[0mself\u001b[0m\u001b[0;34m.\u001b[0m\u001b[0mK_inv1\u001b[0m \u001b[0;34m@\u001b[0m \u001b[0mb\u001b[0m\u001b[0;34m)\u001b[0m\u001b[0;34m\u001b[0m\u001b[0;34m\u001b[0m\u001b[0m\n\u001b[0m\u001b[1;32m     51\u001b[0m                 \u001b[0mu\u001b[0m\u001b[0;34m[\u001b[0m\u001b[0ma\u001b[0m\u001b[0;34m]\u001b[0m \u001b[0;34m=\u001b[0m \u001b[0mb\u001b[0m\u001b[0;34m.\u001b[0m\u001b[0mT\u001b[0m \u001b[0;34m@\u001b[0m \u001b[0mself\u001b[0m\u001b[0;34m.\u001b[0m\u001b[0mK_inv1\u001b[0m \u001b[0;34m@\u001b[0m \u001b[0mself\u001b[0m\u001b[0;34m.\u001b[0m\u001b[0my_t1\u001b[0m \u001b[0;34m+\u001b[0m \u001b[0mself\u001b[0m\u001b[0;34m.\u001b[0m\u001b[0meta\u001b[0m \u001b[0;34m/\u001b[0m \u001b[0mnp\u001b[0m\u001b[0;34m.\u001b[0m\u001b[0msqrt\u001b[0m\u001b[0;34m(\u001b[0m\u001b[0mself\u001b[0m\u001b[0;34m.\u001b[0m\u001b[0mgamma\u001b[0m\u001b[0;34m)\u001b[0m \u001b[0;34m*\u001b[0m \u001b[0mo_a\u001b[0m\u001b[0;34m\u001b[0m\u001b[0;34m\u001b[0m\u001b[0m\n\u001b[1;32m     52\u001b[0m         \u001b[0m_max\u001b[0m \u001b[0;34m=\u001b[0m \u001b[0mmax\u001b[0m\u001b[0;34m(\u001b[0m\u001b[0mu\u001b[0m\u001b[0;34m)\u001b[0m\u001b[0;34m\u001b[0m\u001b[0;34m\u001b[0m\u001b[0m\n",
      "\u001b[0;31mValueError\u001b[0m: matmul: Input operand 1 does not have enough dimensions (has 0, gufunc core with signature (n?,k),(k,m?)->(n?,m?) requires 1)"
     ]
    }
   ],
   "source": [
    "mab = KernelUCB(10, 10, 1.0, 0.1, rbf_kernel)\n",
    "results_KernelUCB = offlineEvaluate(mab, arms, rewards, contexts, 800)\n",
    "print('KernelUCB average reward', np.mean(results_KernelUCB))"
   ]
  },
  {
   "cell_type": "code",
   "execution_count": 39,
   "metadata": {},
   "outputs": [],
   "source": [
    "# your plotting code here"
   ]
  }
 ],
 "metadata": {
  "kernelspec": {
   "display_name": "Python 3",
   "language": "python",
   "name": "python3"
  },
  "language_info": {
   "codemirror_mode": {
    "name": "ipython",
    "version": 3
   },
   "file_extension": ".py",
   "mimetype": "text/x-python",
   "name": "python",
   "nbconvert_exporter": "python",
   "pygments_lexer": "ipython3",
   "version": "3.8.3"
  }
 },
 "nbformat": 4,
 "nbformat_minor": 4
}
