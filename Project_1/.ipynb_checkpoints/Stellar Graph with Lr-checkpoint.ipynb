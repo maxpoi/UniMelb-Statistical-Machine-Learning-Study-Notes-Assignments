{
  "nbformat": 4,
  "nbformat_minor": 0,
  "metadata": {
    "colab": {
      "name": "Test-Copy1.ipynb",
      "provenance": [],
      "collapsed_sections": []
    },
    "kernelspec": {
      "display_name": "Python 3",
      "language": "python",
      "name": "python3"
    },
    "language_info": {
      "codemirror_mode": {
        "name": "ipython",
        "version": 3
      },
      "file_extension": ".py",
      "mimetype": "text/x-python",
      "name": "python",
      "nbconvert_exporter": "python",
      "pygments_lexer": "ipython3",
      "version": "3.6.10"
    },
    "accelerator": "GPU"
  },
  "cells": [
    {
      "cell_type": "code",
      "metadata": {
        "colab_type": "code",
        "id": "11PPd-9qNcWL",
        "colab": {
          "base_uri": "https://localhost:8080/",
          "height": 51
        },
        "outputId": "9fd62c0e-98eb-4c10-ef2f-7d77ae00997d"
      },
      "source": [
        "!pip install networkx"
      ],
      "execution_count": null,
      "outputs": [
        {
          "output_type": "stream",
          "text": [
            "Requirement already satisfied: networkx in /usr/local/lib/python3.6/dist-packages (2.5)\n",
            "Requirement already satisfied: decorator>=4.3.0 in /usr/local/lib/python3.6/dist-packages (from networkx) (4.4.2)\n"
          ],
          "name": "stdout"
        }
      ]
    },
    {
      "cell_type": "code",
      "metadata": {
        "colab_type": "code",
        "id": "f4ILUea5Nftn",
        "colab": {}
      },
      "source": [
        "%pip install -q stellargraph[demos]"
      ],
      "execution_count": null,
      "outputs": []
    },
    {
      "cell_type": "code",
      "metadata": {
        "id": "-JeSKUSwoWN0",
        "colab_type": "code",
        "colab": {}
      },
      "source": [
        "import stellargraph as sg\n",
        "from stellargraph import StellarGraph\n",
        "from stellargraph.data import EdgeSplitter"
      ],
      "execution_count": 16,
      "outputs": []
    },
    {
      "cell_type": "code",
      "metadata": {
        "colab_type": "code",
        "id": "ISp5g5uyNaUr",
        "colab": {}
      },
      "source": [
        "import pandas as pd\n",
        "import numpy as np\n",
        "import random\n",
        "# import networkx as nx\n",
        "import re\n",
        "\n",
        "from sklearn.linear_model import LogisticRegression\n",
        "from sklearn.metrics import roc_auc_score\n",
        "from sklearn.model_selection import train_test_split"
      ],
      "execution_count": 18,
      "outputs": []
    },
    {
      "cell_type": "code",
      "metadata": {
        "colab_type": "code",
        "id": "78HPi0CkNaUv",
        "colab": {}
      },
      "source": [
        "# convert graph to a dictionary, with node as key, and its neighbours (list) as values\n",
        "graphDict = {}\n",
        "\n",
        "# helper variables for constructing a crs matrix and stellar graph\n",
        "nodes = []\n",
        "neighbours = []\n",
        "edges = []\n",
        "\n",
        "# read file and process data\n",
        "with open(\"train.txt\", 'r') as f:\n",
        "    for data in f:\n",
        "        converted_data = list(map(int, data.split()))\n",
        "        source = converted_data[0]\n",
        "        sink = converted_data[1:]\n",
        "        \n",
        "        graphDict[source] = sink\n",
        "        for s in sink:\n",
        "            nodes.append(source)\n",
        "            neighbours.append(s)\n",
        "            edges.append(1)"
      ],
      "execution_count": 19,
      "outputs": []
    },
    {
      "cell_type": "code",
      "metadata": {
        "colab_type": "code",
        "id": "9yI9jPBRNaUx",
        "colab": {
          "base_uri": "https://localhost:8080/",
          "height": 34
        },
        "outputId": "fa79c82f-6ad7-4700-db7e-729715cd6746"
      },
      "source": [
        "print(max(nodes), max(neighbours)) # find number of nodes"
      ],
      "execution_count": 20,
      "outputs": [
        {
          "output_type": "stream",
          "text": [
            "4867036 4839471570810\n"
          ],
          "name": "stdout"
        }
      ]
    },
    {
      "cell_type": "code",
      "metadata": {
        "colab_type": "code",
        "id": "qp3oPm0JNaU4",
        "colab": {}
      },
      "source": [
        "# from scipy.sparse import csr_matrix\n",
        "\n",
        "# _max = max(neighbours) + 1\n",
        "# adj_matrix = csr_matrix((edges,(nodes,neighbours)),shape=(_max, _max))\n",
        "# sink_source_matrix=csr_matrix((edges,(neighbours,nodes)),shape=(_max, _max))"
      ],
      "execution_count": null,
      "outputs": []
    },
    {
      "cell_type": "code",
      "metadata": {
        "colab_type": "code",
        "id": "kRGOOoZxc_99",
        "colab": {
          "base_uri": "https://localhost:8080/",
          "height": 51
        },
        "outputId": "2ad1d7d4-3c97-4ed9-a550-a4e509f6f733"
      },
      "source": [
        "sources = graphDict.keys()\n",
        "neighbours = set(neighbours)\n",
        "print(len(sources), len(neighbours))\n",
        "\n",
        "sinks = [node for node in neighbours if node not in sources]\n",
        "print(len(sources), len(sinks))"
      ],
      "execution_count": null,
      "outputs": [
        {
          "output_type": "stream",
          "text": [
            "20002 4867162\n",
            "20002 4847160\n"
          ],
          "name": "stdout"
        }
      ]
    },
    {
      "cell_type": "code",
      "metadata": {
        "colab_type": "code",
        "id": "Tgo5pebTpegV",
        "colab": {
          "base_uri": "https://localhost:8080/",
          "height": 51
        },
        "outputId": "6d8afce2-214b-474b-d77b-dfbb74570cde"
      },
      "source": [
        "test_pair = []\n",
        "test_nodes = set()\n",
        "with open(\"test-public.txt\", \"r\") as f:\n",
        "    next(f)\n",
        "    for data in f:\n",
        "        line = [int(i) for i in data.split()]\n",
        "        test_pair.append((line[1], line[2]))\n",
        "        test_nodes.add(line[1]) # has to add source as well, because some sources have no out edges in the train.txt\n",
        "        test_nodes.add(line[2])\n",
        "f.close()\n",
        "print(len(test_pair), len(test_nodes))\n",
        "print(test_pair[:5]) # make sure the test pair is reading correctly in correct order"
      ],
      "execution_count": null,
      "outputs": [
        {
          "output_type": "stream",
          "text": [
            "2000 3948\n",
            "[(3563811, 3600160), (2052043, 1401960), (4517994, 1690636), (1660006, 4349447), (581111, 1882617)]\n"
          ],
          "name": "stdout"
        }
      ]
    },
    {
      "cell_type": "code",
      "metadata": {
        "colab_type": "code",
        "id": "cKAtNSzVgQrA",
        "colab": {
          "base_uri": "https://localhost:8080/",
          "height": 34
        },
        "outputId": "6e548363-4f8e-493c-81ad-cfa52b8e09bb"
      },
      "source": [
        "_len = 0\n",
        "for key, values in graphDict.items():\n",
        "    _len += len(values)\n",
        "print(len(graphDict.keys()), _len/len(graphDict.keys())) # find number of sources and average degree"
      ],
      "execution_count": null,
      "outputs": [
        {
          "output_type": "stream",
          "text": [
            "20002 1094.8781121887812\n"
          ],
          "name": "stdout"
        }
      ]
    },
    {
      "cell_type": "code",
      "metadata": {
        "colab_type": "code",
        "id": "3DtKGoqmgk57",
        "colab": {
          "base_uri": "https://localhost:8080/",
          "height": 51
        },
        "outputId": "b67e2c26-eb90-4d3f-f794-dc175926f732"
      },
      "source": [
        "import random\n",
        "random.seed(100)\n",
        "\n",
        "# nodes that must be included in the graph\n",
        "critical_nodes = test_nodes.union(sources)\n",
        "print(len(critical_nodes))\n",
        "\n",
        "# sample nodes to generate a graph network\n",
        "sample_nodes = set().union(critical_nodes)\n",
        "while len(sample_nodes) < 60000:\n",
        "    n = random.choice(sinks)\n",
        "    sample_nodes.add(n)\n",
        "print(len(sample_nodes))"
      ],
      "execution_count": null,
      "outputs": [
        {
          "output_type": "stream",
          "text": [
            "21624\n",
            "60000\n"
          ],
          "name": "stdout"
        }
      ]
    },
    {
      "cell_type": "code",
      "metadata": {
        "id": "-cYO7UV7nJ_4",
        "colab_type": "code",
        "colab": {}
      },
      "source": [
        "nodes = []\n",
        "neighbours = []\n",
        "for s in sample_nodes:\n",
        "    try:\n",
        "        _neighbours = sample_nodes.intersection(set(graphDict[s]))\n",
        "        for d in _neighbours:\n",
        "            nodes.append(str(s))\n",
        "            neighbours.append(str(d))\n",
        "    except:\n",
        "        continue"
      ],
      "execution_count": null,
      "outputs": []
    },
    {
      "cell_type": "code",
      "metadata": {
        "id": "N0YrslBH17hV",
        "colab_type": "code",
        "colab": {
          "base_uri": "https://localhost:8080/",
          "height": 442
        },
        "outputId": "08d7c4f2-5322-4898-bf0b-065a48f15c7b"
      },
      "source": [
        "edges = pd.DataFrame({\"source\": nodes, \"target\": neighbours})\n",
        "G = StellarGraph(edges=edges, is_directed=True)\n",
        "\n",
        "print(G.info())\n",
        "\n",
        "splitter = EdgeSplitter(G)\n",
        "subG, examples, labels = splitter.train_test_split(p=0.1)\n",
        "\n",
        "print(subG.info())"
      ],
      "execution_count": 13,
      "outputs": [
        {
          "output_type": "stream",
          "text": [
            "StellarGraph: Directed multigraph\n",
            " Nodes: 54669, Edges: 2053007\n",
            "\n",
            " Node types:\n",
            "  default: [54669]\n",
            "    Features: none\n",
            "    Edge types: default-default->default\n",
            "\n",
            " Edge types:\n",
            "    default-default->default: [2053007]\n",
            "        Weights: all 1 (default)\n",
            "        Features: none\n",
            "** Sampled 205300 positive and 205300 negative edges. **\n",
            "StellarDiGraph: Directed multigraph\n",
            " Nodes: 54669, Edges: 1847707\n",
            "\n",
            " Node types:\n",
            "  default: [54669]\n",
            "    Features: none\n",
            "    Edge types: default-default->default\n",
            "\n",
            " Edge types:\n",
            "    default-default->default: [1847707]\n",
            "        Weights: all 1 (default)\n",
            "        Features: none\n"
          ],
          "name": "stdout"
        }
      ]
    },
    {
      "cell_type": "code",
      "metadata": {
        "colab_type": "code",
        "id": "xAYufrkSrM0h",
        "colab": {
          "base_uri": "https://localhost:8080/",
          "height": 714
        },
        "outputId": "3c3222db-cd73-4ac2-9197-505ac98959fa"
      },
      "source": [
        "_added = set(list(G.nodes()))\n",
        "\n",
        "print(\"checking for source...\")\n",
        "for s in sources:\n",
        "    if str(s) not in _added:\n",
        "        print(s)\n",
        "print(\"checking for test...\")\n",
        "for s, t in test_pair:\n",
        "    if str(s) not in _added:\n",
        "        print(\"source: \" + str(s))\n",
        "    if str(t) not in _added:\n",
        "        print(\"sink: \" + str(t))\n",
        "# no output means we cover all the required nodes"
      ],
      "execution_count": 14,
      "outputs": [
        {
          "output_type": "stream",
          "text": [
            "checking for source...\n",
            "checking for test...\n",
            "sink: 2978657\n",
            "sink: 3757922\n",
            "sink: 902990\n",
            "sink: 3390005\n",
            "sink: 725481\n",
            "sink: 1020996\n",
            "sink: 2072437\n",
            "sink: 2931888\n",
            "sink: 39384\n",
            "sink: 3565042\n",
            "sink: 1573721\n",
            "sink: 1813598\n",
            "sink: 3267961\n",
            "sink: 4702544\n",
            "sink: 485713\n",
            "sink: 159148\n",
            "sink: 2617049\n",
            "sink: 924523\n",
            "sink: 1434096\n",
            "sink: 4702587\n",
            "sink: 2297830\n",
            "sink: 1646634\n",
            "sink: 685354\n",
            "sink: 2811559\n",
            "sink: 4099761\n",
            "sink: 3451393\n",
            "sink: 3320763\n",
            "sink: 230324\n",
            "sink: 195020\n",
            "sink: 4496788\n",
            "sink: 3199334\n",
            "sink: 3256611\n",
            "sink: 3816260\n",
            "sink: 1149714\n",
            "sink: 3239981\n",
            "sink: 4066160\n",
            "sink: 563440\n",
            "sink: 1239270\n",
            "sink: 1674256\n"
          ],
          "name": "stdout"
        }
      ]
    },
    {
      "cell_type": "code",
      "metadata": {
        "colab_type": "code",
        "id": "a2MBZLW_NaVD",
        "colab": {
          "base_uri": "https://localhost:8080/",
          "height": 481
        },
        "outputId": "415d40bc-3690-4d5d-a8d9-3542760f45bd"
      },
      "source": [
        "# https://stellargraph.readthedocs.io/en/stable/demos/link-prediction/node2vec-link-prediction.html#refs\n",
        "import multiprocessing\n",
        "\n",
        "p = 1.0\n",
        "q = 1.0\n",
        "dimensions = 128\n",
        "num_walks = 10\n",
        "walk_length = 80\n",
        "window_size = 10\n",
        "num_iter = 1\n",
        "workers = multiprocessing.cpu_count()\n",
        "\n",
        "\n",
        "from stellargraph.data import BiasedRandomWalk\n",
        "from gensim.models import Word2Vec\n",
        "\n",
        "%time\n",
        "rw = BiasedRandomWalk(subG)\n",
        "walks = rw.run(subG.nodes(), n=num_walks, length=walk_length, p=p, q=q)"
      ],
      "execution_count": 15,
      "outputs": [
        {
          "output_type": "stream",
          "text": [
            "CPU times: user 3 µs, sys: 0 ns, total: 3 µs\n",
            "Wall time: 4.77 µs\n"
          ],
          "name": "stdout"
        },
        {
          "output_type": "error",
          "ename": "KeyboardInterrupt",
          "evalue": "ignored",
          "traceback": [
            "\u001b[0;31m---------------------------------------------------------------------------\u001b[0m",
            "\u001b[0;31mKeyboardInterrupt\u001b[0m                         Traceback (most recent call last)",
            "\u001b[0;32m<ipython-input-15-b47de686cb2c>\u001b[0m in \u001b[0;36m<module>\u001b[0;34m()\u001b[0m\n\u001b[1;32m     17\u001b[0m \u001b[0mget_ipython\u001b[0m\u001b[0;34m(\u001b[0m\u001b[0;34m)\u001b[0m\u001b[0;34m.\u001b[0m\u001b[0mmagic\u001b[0m\u001b[0;34m(\u001b[0m\u001b[0;34m'time'\u001b[0m\u001b[0;34m)\u001b[0m\u001b[0;34m\u001b[0m\u001b[0;34m\u001b[0m\u001b[0m\n\u001b[1;32m     18\u001b[0m \u001b[0mrw\u001b[0m \u001b[0;34m=\u001b[0m \u001b[0mBiasedRandomWalk\u001b[0m\u001b[0;34m(\u001b[0m\u001b[0msubG\u001b[0m\u001b[0;34m)\u001b[0m\u001b[0;34m\u001b[0m\u001b[0;34m\u001b[0m\u001b[0m\n\u001b[0;32m---> 19\u001b[0;31m \u001b[0mwalks\u001b[0m \u001b[0;34m=\u001b[0m \u001b[0mrw\u001b[0m\u001b[0;34m.\u001b[0m\u001b[0mrun\u001b[0m\u001b[0;34m(\u001b[0m\u001b[0msubG\u001b[0m\u001b[0;34m.\u001b[0m\u001b[0mnodes\u001b[0m\u001b[0;34m(\u001b[0m\u001b[0;34m)\u001b[0m\u001b[0;34m,\u001b[0m \u001b[0mn\u001b[0m\u001b[0;34m=\u001b[0m\u001b[0mnum_walks\u001b[0m\u001b[0;34m,\u001b[0m \u001b[0mlength\u001b[0m\u001b[0;34m=\u001b[0m\u001b[0mwalk_length\u001b[0m\u001b[0;34m,\u001b[0m \u001b[0mp\u001b[0m\u001b[0;34m=\u001b[0m\u001b[0mp\u001b[0m\u001b[0;34m,\u001b[0m \u001b[0mq\u001b[0m\u001b[0;34m=\u001b[0m\u001b[0mq\u001b[0m\u001b[0;34m)\u001b[0m\u001b[0;34m\u001b[0m\u001b[0;34m\u001b[0m\u001b[0m\n\u001b[0m",
            "\u001b[0;32m/usr/local/lib/python3.6/dist-packages/stellargraph/data/explorer.py\u001b[0m in \u001b[0;36mrun\u001b[0;34m(self, nodes, n, length, p, q, seed, weighted)\u001b[0m\n\u001b[1;32m    498\u001b[0m                     \u001b[0mmask\u001b[0m \u001b[0;34m=\u001b[0m \u001b[0mneighbours\u001b[0m \u001b[0;34m==\u001b[0m \u001b[0mprevious_node\u001b[0m\u001b[0;34m\u001b[0m\u001b[0;34m\u001b[0m\u001b[0m\n\u001b[1;32m    499\u001b[0m                     \u001b[0mweights\u001b[0m\u001b[0;34m[\u001b[0m\u001b[0mmask\u001b[0m\u001b[0;34m]\u001b[0m \u001b[0;34m*=\u001b[0m \u001b[0mip\u001b[0m\u001b[0;34m\u001b[0m\u001b[0;34m\u001b[0m\u001b[0m\n\u001b[0;32m--> 500\u001b[0;31m                     \u001b[0mmask\u001b[0m \u001b[0;34m|=\u001b[0m \u001b[0mnp\u001b[0m\u001b[0;34m.\u001b[0m\u001b[0misin\u001b[0m\u001b[0;34m(\u001b[0m\u001b[0mneighbours\u001b[0m\u001b[0;34m,\u001b[0m \u001b[0mprevious_node_neighbours\u001b[0m\u001b[0;34m)\u001b[0m\u001b[0;34m\u001b[0m\u001b[0;34m\u001b[0m\u001b[0m\n\u001b[0m\u001b[1;32m    501\u001b[0m                     \u001b[0mweights\u001b[0m\u001b[0;34m[\u001b[0m\u001b[0;34m~\u001b[0m\u001b[0mmask\u001b[0m\u001b[0;34m]\u001b[0m \u001b[0;34m*=\u001b[0m \u001b[0miq\u001b[0m\u001b[0;34m\u001b[0m\u001b[0;34m\u001b[0m\u001b[0m\n\u001b[1;32m    502\u001b[0m \u001b[0;34m\u001b[0m\u001b[0m\n",
            "\u001b[0;32m<__array_function__ internals>\u001b[0m in \u001b[0;36misin\u001b[0;34m(*args, **kwargs)\u001b[0m\n",
            "\u001b[0;32m/usr/local/lib/python3.6/dist-packages/numpy/lib/arraysetops.py\u001b[0m in \u001b[0;36misin\u001b[0;34m(element, test_elements, assume_unique, invert)\u001b[0m\n\u001b[1;32m    695\u001b[0m     \u001b[0melement\u001b[0m \u001b[0;34m=\u001b[0m \u001b[0mnp\u001b[0m\u001b[0;34m.\u001b[0m\u001b[0masarray\u001b[0m\u001b[0;34m(\u001b[0m\u001b[0melement\u001b[0m\u001b[0;34m)\u001b[0m\u001b[0;34m\u001b[0m\u001b[0;34m\u001b[0m\u001b[0m\n\u001b[1;32m    696\u001b[0m     return in1d(element, test_elements, assume_unique=assume_unique,\n\u001b[0;32m--> 697\u001b[0;31m                 invert=invert).reshape(element.shape)\n\u001b[0m\u001b[1;32m    698\u001b[0m \u001b[0;34m\u001b[0m\u001b[0m\n\u001b[1;32m    699\u001b[0m \u001b[0;34m\u001b[0m\u001b[0m\n",
            "\u001b[0;32m<__array_function__ internals>\u001b[0m in \u001b[0;36min1d\u001b[0;34m(*args, **kwargs)\u001b[0m\n",
            "\u001b[0;32m/usr/local/lib/python3.6/dist-packages/numpy/lib/arraysetops.py\u001b[0m in \u001b[0;36min1d\u001b[0;34m(ar1, ar2, assume_unique, invert)\u001b[0m\n\u001b[1;32m    572\u001b[0m     \u001b[0;31m# Otherwise use sorting\u001b[0m\u001b[0;34m\u001b[0m\u001b[0;34m\u001b[0m\u001b[0;34m\u001b[0m\u001b[0m\n\u001b[1;32m    573\u001b[0m     \u001b[0;32mif\u001b[0m \u001b[0;32mnot\u001b[0m \u001b[0massume_unique\u001b[0m\u001b[0;34m:\u001b[0m\u001b[0;34m\u001b[0m\u001b[0;34m\u001b[0m\u001b[0m\n\u001b[0;32m--> 574\u001b[0;31m         \u001b[0mar1\u001b[0m\u001b[0;34m,\u001b[0m \u001b[0mrev_idx\u001b[0m \u001b[0;34m=\u001b[0m \u001b[0mnp\u001b[0m\u001b[0;34m.\u001b[0m\u001b[0munique\u001b[0m\u001b[0;34m(\u001b[0m\u001b[0mar1\u001b[0m\u001b[0;34m,\u001b[0m \u001b[0mreturn_inverse\u001b[0m\u001b[0;34m=\u001b[0m\u001b[0;32mTrue\u001b[0m\u001b[0;34m)\u001b[0m\u001b[0;34m\u001b[0m\u001b[0;34m\u001b[0m\u001b[0m\n\u001b[0m\u001b[1;32m    575\u001b[0m         \u001b[0mar2\u001b[0m \u001b[0;34m=\u001b[0m \u001b[0mnp\u001b[0m\u001b[0;34m.\u001b[0m\u001b[0munique\u001b[0m\u001b[0;34m(\u001b[0m\u001b[0mar2\u001b[0m\u001b[0;34m)\u001b[0m\u001b[0;34m\u001b[0m\u001b[0;34m\u001b[0m\u001b[0m\n\u001b[1;32m    576\u001b[0m \u001b[0;34m\u001b[0m\u001b[0m\n",
            "\u001b[0;32m<__array_function__ internals>\u001b[0m in \u001b[0;36munique\u001b[0;34m(*args, **kwargs)\u001b[0m\n",
            "\u001b[0;32m/usr/local/lib/python3.6/dist-packages/numpy/lib/arraysetops.py\u001b[0m in \u001b[0;36munique\u001b[0;34m(ar, return_index, return_inverse, return_counts, axis)\u001b[0m\n\u001b[1;32m    261\u001b[0m     \u001b[0mar\u001b[0m \u001b[0;34m=\u001b[0m \u001b[0mnp\u001b[0m\u001b[0;34m.\u001b[0m\u001b[0masanyarray\u001b[0m\u001b[0;34m(\u001b[0m\u001b[0mar\u001b[0m\u001b[0;34m)\u001b[0m\u001b[0;34m\u001b[0m\u001b[0;34m\u001b[0m\u001b[0m\n\u001b[1;32m    262\u001b[0m     \u001b[0;32mif\u001b[0m \u001b[0maxis\u001b[0m \u001b[0;32mis\u001b[0m \u001b[0;32mNone\u001b[0m\u001b[0;34m:\u001b[0m\u001b[0;34m\u001b[0m\u001b[0;34m\u001b[0m\u001b[0m\n\u001b[0;32m--> 263\u001b[0;31m         \u001b[0mret\u001b[0m \u001b[0;34m=\u001b[0m \u001b[0m_unique1d\u001b[0m\u001b[0;34m(\u001b[0m\u001b[0mar\u001b[0m\u001b[0;34m,\u001b[0m \u001b[0mreturn_index\u001b[0m\u001b[0;34m,\u001b[0m \u001b[0mreturn_inverse\u001b[0m\u001b[0;34m,\u001b[0m \u001b[0mreturn_counts\u001b[0m\u001b[0;34m)\u001b[0m\u001b[0;34m\u001b[0m\u001b[0;34m\u001b[0m\u001b[0m\n\u001b[0m\u001b[1;32m    264\u001b[0m         \u001b[0;32mreturn\u001b[0m \u001b[0m_unpack_tuple\u001b[0m\u001b[0;34m(\u001b[0m\u001b[0mret\u001b[0m\u001b[0;34m)\u001b[0m\u001b[0;34m\u001b[0m\u001b[0;34m\u001b[0m\u001b[0m\n\u001b[1;32m    265\u001b[0m \u001b[0;34m\u001b[0m\u001b[0m\n",
            "\u001b[0;32m/usr/local/lib/python3.6/dist-packages/numpy/lib/arraysetops.py\u001b[0m in \u001b[0;36m_unique1d\u001b[0;34m(ar, return_index, return_inverse, return_counts)\u001b[0m\n\u001b[1;32m    306\u001b[0m \u001b[0;34m\u001b[0m\u001b[0m\n\u001b[1;32m    307\u001b[0m     \u001b[0;32mif\u001b[0m \u001b[0moptional_indices\u001b[0m\u001b[0;34m:\u001b[0m\u001b[0;34m\u001b[0m\u001b[0;34m\u001b[0m\u001b[0m\n\u001b[0;32m--> 308\u001b[0;31m         \u001b[0mperm\u001b[0m \u001b[0;34m=\u001b[0m \u001b[0mar\u001b[0m\u001b[0;34m.\u001b[0m\u001b[0margsort\u001b[0m\u001b[0;34m(\u001b[0m\u001b[0mkind\u001b[0m\u001b[0;34m=\u001b[0m\u001b[0;34m'mergesort'\u001b[0m \u001b[0;32mif\u001b[0m \u001b[0mreturn_index\u001b[0m \u001b[0;32melse\u001b[0m \u001b[0;34m'quicksort'\u001b[0m\u001b[0;34m)\u001b[0m\u001b[0;34m\u001b[0m\u001b[0;34m\u001b[0m\u001b[0m\n\u001b[0m\u001b[1;32m    309\u001b[0m         \u001b[0maux\u001b[0m \u001b[0;34m=\u001b[0m \u001b[0mar\u001b[0m\u001b[0;34m[\u001b[0m\u001b[0mperm\u001b[0m\u001b[0;34m]\u001b[0m\u001b[0;34m\u001b[0m\u001b[0;34m\u001b[0m\u001b[0m\n\u001b[1;32m    310\u001b[0m     \u001b[0;32melse\u001b[0m\u001b[0;34m:\u001b[0m\u001b[0;34m\u001b[0m\u001b[0;34m\u001b[0m\u001b[0m\n",
            "\u001b[0;31mKeyboardInterrupt\u001b[0m: "
          ]
        }
      ]
    },
    {
      "cell_type": "code",
      "metadata": {
        "id": "jHj3ymbqfL24",
        "colab_type": "code",
        "colab": {}
      },
      "source": [
        "model = Word2Vec(\n",
        "    walks,\n",
        "    size=dimensions,\n",
        "    window=window_size,\n",
        "    min_count=0,\n",
        "    sg=1,\n",
        "    workers=workers,\n",
        "    iter=num_iter,\n",
        ")"
      ],
      "execution_count": null,
      "outputs": []
    },
    {
      "cell_type": "code",
      "metadata": {
        "id": "WO_H36fRCpOU",
        "colab_type": "code",
        "colab": {}
      },
      "source": [
        "x_train, x_dev, y_train, y_dev = train_test_split(examples, labels, train_size=0.75, test_size=0.25)"
      ],
      "execution_count": null,
      "outputs": []
    },
    {
      "cell_type": "code",
      "metadata": {
        "id": "2UMLL2rXBMCh",
        "colab_type": "code",
        "colab": {}
      },
      "source": [
        "from sklearn.pipeline import Pipeline\n",
        "from sklearn.linear_model import LogisticRegressionCV\n",
        "from sklearn.metrics import roc_auc_score\n",
        "from sklearn.preprocessing import StandardScaler\n",
        "\n",
        "def hadamard(u, v):\n",
        "    return u * v\n",
        "\n",
        "def l1(u, v):\n",
        "    return np.abs(u - v)\n",
        "\n",
        "def l2(u, v):\n",
        "    return (u - v) ** 2\n",
        "\n",
        "train_embs = [hadamard(model.wv[s], model.wv[t]) for s, t in x_train]\n",
        "dev_embs = [hadamard(model.wv[s], model.wv[t]) for s, t in x_dev]\n",
        "                     \n",
        "lr_clf = LogisticRegressionCV(Cs=10, cv=10, scoring=\"roc_auc\", max_iter=2000)\n",
        "clf = Pipeline(steps=[(\"sc\", StandardScaler()), (\"clf\", lr_clf)])\n",
        "clf.fit(train_embs, y_train)\n",
        "\n",
        "predicted = clf.predict_proba(dev_embs)\n",
        "cols = list(clf.classes_).index(1)\n",
        "score = roc_auc_score(link_labels, predicted[:, positive_column])\n",
        "print(score) "
      ],
      "execution_count": null,
      "outputs": []
    },
    {
      "cell_type": "code",
      "metadata": {
        "colab_type": "code",
        "id": "LIEM37NrBXeX",
        "colab": {}
      },
      "source": [
        "# test_embeddings = [n2v_model[str(s)] + n2v_model[str(t)] for s, t in test_pair]\n",
        "# predicted = lr_clf.predict_proba(test_embeddings)\n",
        "predicted = []\n",
        "import csv\n",
        "with open(\"predict_yjc.csv\", \"w\") as f:\n",
        "    writer = csv.writer(f)\n",
        "    writer.writerow([\"Id\", \"Predicted\"])\n",
        "    _id = 1\n",
        "    for p in predicted:\n",
        "        writer.writerow([_id, p[1]])\n",
        "        _id += 1\n",
        "f.close()"
      ],
      "execution_count": null,
      "outputs": []
    }
  ]
}