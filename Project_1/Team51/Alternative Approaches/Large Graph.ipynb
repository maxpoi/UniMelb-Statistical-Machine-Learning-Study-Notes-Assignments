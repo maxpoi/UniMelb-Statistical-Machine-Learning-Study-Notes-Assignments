{
 "cells": [
  {
   "cell_type": "code",
   "execution_count": 1,
   "metadata": {
    "colab": {
     "base_uri": "https://localhost:8080/",
     "height": 51
    },
    "colab_type": "code",
    "id": "11PPd-9qNcWL",
    "outputId": "9fd62c0e-98eb-4c10-ef2f-7d77ae00997d"
   },
   "outputs": [
    {
     "name": "stdout",
     "output_type": "stream",
     "text": [
      "Requirement already satisfied: networkx in /opt/anaconda3/lib/python3.8/site-packages (2.4)\n",
      "Requirement already satisfied: decorator>=4.3.0 in /opt/anaconda3/lib/python3.8/site-packages (from networkx) (4.4.2)\n"
     ]
    }
   ],
   "source": [
    "!pip install networkx"
   ]
  },
  {
   "cell_type": "code",
   "execution_count": 2,
   "metadata": {
    "colab": {},
    "colab_type": "code",
    "id": "f4ILUea5Nftn"
   },
   "outputs": [
    {
     "name": "stdout",
     "output_type": "stream",
     "text": [
      "Note: you may need to restart the kernel to use updated packages.\n"
     ]
    }
   ],
   "source": [
    "%pip install -q stellargraph[demos]"
   ]
  },
  {
   "cell_type": "code",
   "execution_count": 3,
   "metadata": {
    "colab": {},
    "colab_type": "code",
    "id": "-JeSKUSwoWN0"
   },
   "outputs": [],
   "source": [
    "import stellargraph as sg\n",
    "from stellargraph import StellarGraph\n",
    "from stellargraph.data import EdgeSplitter"
   ]
  },
  {
   "cell_type": "code",
   "execution_count": 14,
   "metadata": {
    "colab": {},
    "colab_type": "code",
    "id": "ISp5g5uyNaUr"
   },
   "outputs": [],
   "source": [
    "import pandas as pd\n",
    "import numpy as np\n",
    "import random\n",
    "import networkx as nx\n",
    "import re\n",
    "\n",
    "from sklearn.linear_model import LogisticRegression\n",
    "from sklearn.metrics import roc_auc_score\n",
    "from sklearn.model_selection import train_test_split"
   ]
  },
  {
   "cell_type": "code",
   "execution_count": 5,
   "metadata": {
    "colab": {},
    "colab_type": "code",
    "id": "78HPi0CkNaUv"
   },
   "outputs": [],
   "source": [
    "# convert graph to a dictionary, with node as key, and its neighbours (list) as values\n",
    "graphDict = {}\n",
    "\n",
    "# helper variables for constructing a crs matrix and stellar graph\n",
    "nodes = []\n",
    "neighbours = []\n",
    "edges = []\n",
    "\n",
    "# read file and process data\n",
    "with open(\"train.txt\", 'r') as f:\n",
    "    for data in f:\n",
    "        converted_data = data.split()\n",
    "        source = converted_data[0]\n",
    "        sink = converted_data[1:]\n",
    "        \n",
    "        graphDict[source] = sink\n",
    "        for s in sink:\n",
    "            nodes.append(source)\n",
    "            neighbours.append(s)\n",
    "            edges.append(1)\n",
    "\n",
    "assert(type(nodes[0]) == type(nodes[-1]))\n",
    "assert(type(nodes[0]) == str)\n",
    "\n",
    "# edges = pd.DataFrame({\"source\": nodes, \"target\": neighbours})\n",
    "# G_master = StellarGraph(edges=edges, is_directed=True)"
   ]
  },
  {
   "cell_type": "code",
   "execution_count": 6,
   "metadata": {
    "colab": {
     "base_uri": "https://localhost:8080/",
     "height": 34
    },
    "colab_type": "code",
    "id": "9yI9jPBRNaUx",
    "outputId": "fa79c82f-6ad7-4700-db7e-729715cd6746"
   },
   "outputs": [
    {
     "name": "stdout",
     "output_type": "stream",
     "text": [
      "4867135\n",
      "998989 999999\n"
     ]
    }
   ],
   "source": [
    "temp = [int(i) for i in neighbours]\n",
    "print(max(temp))\n",
    "print(max(nodes), max(neighbours)) # find number of nodes"
   ]
  },
  {
   "cell_type": "code",
   "execution_count": 7,
   "metadata": {
    "colab": {},
    "colab_type": "code",
    "id": "qp3oPm0JNaU4"
   },
   "outputs": [],
   "source": [
    "from scipy.sparse import csr_matrix\n",
    "\n",
    "_max = max(temp) + 1\n",
    "adj_matrix = csr_matrix((edges,(nodes,neighbours)),shape=(_max, _max))"
   ]
  },
  {
   "cell_type": "code",
   "execution_count": 8,
   "metadata": {
    "colab": {
     "base_uri": "https://localhost:8080/",
     "height": 51
    },
    "colab_type": "code",
    "id": "kRGOOoZxc_99",
    "outputId": "2ad1d7d4-3c97-4ed9-a550-a4e509f6f733"
   },
   "outputs": [
    {
     "name": "stdout",
     "output_type": "stream",
     "text": [
      "20000 4867136\n",
      "20000 4847136\n"
     ]
    }
   ],
   "source": [
    "sources = graphDict.keys()\n",
    "neighbours = set(neighbours)\n",
    "print(len(sources), len(neighbours))\n",
    "\n",
    "sinks = [node for node in neighbours if node not in sources]\n",
    "print(len(sources), len(sinks))"
   ]
  },
  {
   "cell_type": "code",
   "execution_count": 9,
   "metadata": {
    "colab": {
     "base_uri": "https://localhost:8080/",
     "height": 51
    },
    "colab_type": "code",
    "id": "Tgo5pebTpegV",
    "outputId": "6d8afce2-214b-474b-d77b-dfbb74570cde"
   },
   "outputs": [
    {
     "name": "stdout",
     "output_type": "stream",
     "text": [
      "2000 3948\n",
      "[('3563811', '3600160'), ('2052043', '1401960'), ('4517994', '1690636'), ('1660006', '4349447'), ('581111', '1882617')]\n"
     ]
    }
   ],
   "source": [
    "test_pair = []\n",
    "test_nodes = set()\n",
    "with open(\"test-public.txt\", \"r\") as f:\n",
    "    next(f)\n",
    "    for line in f:\n",
    "        data = line.split()\n",
    "        test_pair.append((data[1], data[2]))\n",
    "        test_nodes.add(data[1]) # has to add source as well, because some sources have no out edges in the train.txt\n",
    "        test_nodes.add(data[2])\n",
    "f.close()\n",
    "print(len(test_pair), len(test_nodes))\n",
    "print(test_pair[:5]) # make sure the test pair is reading correctly in correct order"
   ]
  },
  {
   "cell_type": "code",
   "execution_count": 10,
   "metadata": {
    "colab": {
     "base_uri": "https://localhost:8080/",
     "height": 34
    },
    "colab_type": "code",
    "id": "cKAtNSzVgQrA",
    "outputId": "6e548363-4f8e-493c-81ad-cfa52b8e09bb"
   },
   "outputs": [
    {
     "name": "stdout",
     "output_type": "stream",
     "text": [
      "20000 1200.21805\n"
     ]
    }
   ],
   "source": [
    "_len = 0\n",
    "for key, values in graphDict.items():\n",
    "    _len += len(values)\n",
    "print(len(graphDict.keys()), _len/len(graphDict.keys())) # find number of sources and average degree"
   ]
  },
  {
   "cell_type": "code",
   "execution_count": 11,
   "metadata": {
    "colab": {
     "base_uri": "https://localhost:8080/",
     "height": 51
    },
    "colab_type": "code",
    "id": "3DtKGoqmgk57",
    "outputId": "b67e2c26-eb90-4d3f-f794-dc175926f732"
   },
   "outputs": [
    {
     "name": "stdout",
     "output_type": "stream",
     "text": [
      "21622\n",
      "1000000\n"
     ]
    }
   ],
   "source": [
    "import random\n",
    "random.seed(100)\n",
    "\n",
    "# nodes that must be included in the graph\n",
    "critical_nodes = test_nodes.union(sources)\n",
    "print(len(critical_nodes))\n",
    "\n",
    "# sample nodes to generate a graph network\n",
    "sample_nodes = set().union(critical_nodes)\n",
    "while len(sample_nodes) < 1000000:\n",
    "    n = random.choice(sinks)\n",
    "    sample_nodes.add(n)\n",
    "print(len(sample_nodes))"
   ]
  },
  {
   "cell_type": "code",
   "execution_count": 12,
   "metadata": {
    "colab": {},
    "colab_type": "code",
    "id": "-cYO7UV7nJ_4"
   },
   "outputs": [
    {
     "name": "stdout",
     "output_type": "stream",
     "text": [
      "6382181\n"
     ]
    }
   ],
   "source": [
    "edges = []\n",
    "nodes = set()\n",
    "for s in sample_nodes:\n",
    "    nodes.add(s)\n",
    "    try:\n",
    "        _neighbours = sample_nodes.intersection(set(graphDict[s]))\n",
    "        for d in _neighbours:\n",
    "            edges.append((s, d))\n",
    "            nodes.add(d)\n",
    "    except:\n",
    "        continue\n",
    "\n",
    "print(len(edges))"
   ]
  },
  {
   "cell_type": "code",
   "execution_count": 13,
   "metadata": {},
   "outputs": [
    {
     "name": "stdout",
     "output_type": "stream",
     "text": [
      "('4151915', '3583761')\n"
     ]
    }
   ],
   "source": [
    "# sample positive edges\n",
    "pos_examples = set()\n",
    "neg_examples = set()\n",
    "\n",
    "# 0.1 proportion\n",
    "while len(pos_examples) < 600000:\n",
    "    i, j = random.choice(edges)\n",
    "    pos_examples.add((i, j))\n",
    "\n",
    "nodes = list(nodes)\n",
    "while len(neg_examples) < 600000:\n",
    "    i = random.choice(nodes)\n",
    "    j = random.choice(nodes)\n",
    "    if i != j and adj_matrix[int(i), int(j)] == 0:\n",
    "        neg_examples.add((i, j))\n",
    "        \n",
    "examples = list(pos_examples) + list(neg_examples)\n",
    "labels = [1 for i in pos_examples] + [0 for i in neg_examples]\n",
    "\n",
    "print(list(pos_examples)[0])"
   ]
  },
  {
   "cell_type": "code",
   "execution_count": 18,
   "metadata": {
    "colab": {
     "base_uri": "https://localhost:8080/",
     "height": 442
    },
    "colab_type": "code",
    "id": "N0YrslBH17hV",
    "outputId": "08d7c4f2-5322-4898-bf0b-065a48f15c7b"
   },
   "outputs": [
    {
     "name": "stdout",
     "output_type": "stream",
     "text": [
      "1000000\n",
      "6382181\n",
      "1000000\n",
      "5782181\n",
      "StellarDiGraph: Directed multigraph\n",
      " Nodes: 1000000, Edges: 5782181\n",
      "\n",
      " Node types:\n",
      "  default: [1000000]\n",
      "    Features: none\n",
      "    Edge types: default-default->default\n",
      "\n",
      " Edge types:\n",
      "    default-default->default: [5782181]\n",
      "        Weights: all 1 (default)\n",
      "        Features: none\n"
     ]
    }
   ],
   "source": [
    "# edges = pd.DataFrame({\"source\": nodes, \"target\": neighbours})\n",
    "# G = StellarGraph(edges=edges, is_directed=True)\n",
    "\n",
    "# print(G.info())\n",
    "\n",
    "# splitter = EdgeSplitter(G, g_master=G_master)\n",
    "# subG, examples, labels = splitter.train_test_split(p=0.1)\n",
    "\n",
    "# print(subG.info())\n",
    "\n",
    "nxG = nx.DiGraph(edges)\n",
    "print(len(list(nxG.nodes)))\n",
    "print(len(list(nxG.edges)))\n",
    "\n",
    "nxG.remove_edges_from(list(pos_examples))\n",
    "print(len(list(nxG.nodes)))\n",
    "print(len(list(nxG.edges)))\n",
    "\n",
    "subG = StellarGraph.from_networkx(nxG)\n",
    "print(subG.info())"
   ]
  },
  {
   "cell_type": "code",
   "execution_count": 19,
   "metadata": {
    "colab": {
     "base_uri": "https://localhost:8080/",
     "height": 714
    },
    "colab_type": "code",
    "id": "xAYufrkSrM0h",
    "outputId": "3c3222db-cd73-4ac2-9197-505ac98959fa"
   },
   "outputs": [
    {
     "name": "stdout",
     "output_type": "stream",
     "text": [
      "checking for source...\n",
      "checking for test...\n"
     ]
    }
   ],
   "source": [
    "_added = set(list(subG.nodes()))\n",
    "\n",
    "print(\"checking for source...\")\n",
    "for s in sources:\n",
    "    if str(s) not in _added:\n",
    "        print(s)\n",
    "print(\"checking for test...\")\n",
    "for s, t in test_pair:\n",
    "    if str(s) not in _added:\n",
    "        print(\"source: \" + str(s))\n",
    "    if str(t) not in _added:\n",
    "        print(\"sink: \" + str(t))\n",
    "# no output means we cover all the required nodes"
   ]
  },
  {
   "cell_type": "code",
   "execution_count": 20,
   "metadata": {
    "colab": {
     "base_uri": "https://localhost:8080/",
     "height": 481
    },
    "colab_type": "code",
    "id": "a2MBZLW_NaVD",
    "outputId": "415d40bc-3690-4d5d-a8d9-3542760f45bd"
   },
   "outputs": [
    {
     "ename": "KeyboardInterrupt",
     "evalue": "",
     "output_type": "error",
     "traceback": [
      "\u001b[0;31m---------------------------------------------------------------------------\u001b[0m",
      "\u001b[0;31mKeyboardInterrupt\u001b[0m                         Traceback (most recent call last)",
      "\u001b[0;32m<ipython-input-20-3235f2ab164d>\u001b[0m in \u001b[0;36m<module>\u001b[0;34m\u001b[0m\n\u001b[1;32m     17\u001b[0m \u001b[0;34m\u001b[0m\u001b[0m\n\u001b[1;32m     18\u001b[0m \u001b[0mrw\u001b[0m \u001b[0;34m=\u001b[0m \u001b[0mBiasedRandomWalk\u001b[0m\u001b[0;34m(\u001b[0m\u001b[0msubG\u001b[0m\u001b[0;34m)\u001b[0m\u001b[0;34m\u001b[0m\u001b[0;34m\u001b[0m\u001b[0m\n\u001b[0;32m---> 19\u001b[0;31m \u001b[0mwalks\u001b[0m \u001b[0;34m=\u001b[0m \u001b[0mrw\u001b[0m\u001b[0;34m.\u001b[0m\u001b[0mrun\u001b[0m\u001b[0;34m(\u001b[0m\u001b[0msubG\u001b[0m\u001b[0;34m.\u001b[0m\u001b[0mnodes\u001b[0m\u001b[0;34m(\u001b[0m\u001b[0;34m)\u001b[0m\u001b[0;34m,\u001b[0m \u001b[0mn\u001b[0m\u001b[0;34m=\u001b[0m\u001b[0mnum_walks\u001b[0m\u001b[0;34m,\u001b[0m \u001b[0mlength\u001b[0m\u001b[0;34m=\u001b[0m\u001b[0mwalk_length\u001b[0m\u001b[0;34m,\u001b[0m \u001b[0mp\u001b[0m\u001b[0;34m=\u001b[0m\u001b[0mp\u001b[0m\u001b[0;34m,\u001b[0m \u001b[0mq\u001b[0m\u001b[0;34m=\u001b[0m\u001b[0mq\u001b[0m\u001b[0;34m)\u001b[0m\u001b[0;34m\u001b[0m\u001b[0;34m\u001b[0m\u001b[0m\n\u001b[0m",
      "\u001b[0;32m/opt/anaconda3/lib/python3.8/site-packages/stellargraph/data/explorer.py\u001b[0m in \u001b[0;36mrun\u001b[0;34m(self, nodes, n, length, p, q, seed, weighted)\u001b[0m\n\u001b[1;32m    501\u001b[0m                     \u001b[0mweights\u001b[0m\u001b[0;34m[\u001b[0m\u001b[0;34m~\u001b[0m\u001b[0mmask\u001b[0m\u001b[0;34m]\u001b[0m \u001b[0;34m*=\u001b[0m \u001b[0miq\u001b[0m\u001b[0;34m\u001b[0m\u001b[0;34m\u001b[0m\u001b[0m\n\u001b[1;32m    502\u001b[0m \u001b[0;34m\u001b[0m\u001b[0m\n\u001b[0;32m--> 503\u001b[0;31m                     \u001b[0mchoice\u001b[0m \u001b[0;34m=\u001b[0m \u001b[0mnaive_weighted_choices\u001b[0m\u001b[0;34m(\u001b[0m\u001b[0mrs\u001b[0m\u001b[0;34m,\u001b[0m \u001b[0mweights\u001b[0m\u001b[0;34m)\u001b[0m\u001b[0;34m\u001b[0m\u001b[0;34m\u001b[0m\u001b[0m\n\u001b[0m\u001b[1;32m    504\u001b[0m                     \u001b[0;32mif\u001b[0m \u001b[0mchoice\u001b[0m \u001b[0;32mis\u001b[0m \u001b[0;32mNone\u001b[0m\u001b[0;34m:\u001b[0m\u001b[0;34m\u001b[0m\u001b[0;34m\u001b[0m\u001b[0m\n\u001b[1;32m    505\u001b[0m                         \u001b[0;32mbreak\u001b[0m\u001b[0;34m\u001b[0m\u001b[0;34m\u001b[0m\u001b[0m\n",
      "\u001b[0;32m/opt/anaconda3/lib/python3.8/site-packages/stellargraph/data/explorer.py\u001b[0m in \u001b[0;36mnaive_weighted_choices\u001b[0;34m(rs, weights, size)\u001b[0m\n\u001b[1;32m    347\u001b[0m \u001b[0;34m\u001b[0m\u001b[0m\n\u001b[1;32m    348\u001b[0m     \u001b[0mthresholds\u001b[0m \u001b[0;34m=\u001b[0m \u001b[0mrs\u001b[0m\u001b[0;34m.\u001b[0m\u001b[0mrandom\u001b[0m\u001b[0;34m(\u001b[0m\u001b[0;34m)\u001b[0m \u001b[0;32mif\u001b[0m \u001b[0msize\u001b[0m \u001b[0;32mis\u001b[0m \u001b[0;32mNone\u001b[0m \u001b[0;32melse\u001b[0m \u001b[0mrs\u001b[0m\u001b[0;34m.\u001b[0m\u001b[0mrandom\u001b[0m\u001b[0;34m(\u001b[0m\u001b[0msize\u001b[0m\u001b[0;34m)\u001b[0m\u001b[0;34m\u001b[0m\u001b[0;34m\u001b[0m\u001b[0m\n\u001b[0;32m--> 349\u001b[0;31m     \u001b[0midx\u001b[0m \u001b[0;34m=\u001b[0m \u001b[0mnp\u001b[0m\u001b[0;34m.\u001b[0m\u001b[0msearchsorted\u001b[0m\u001b[0;34m(\u001b[0m\u001b[0mprobs\u001b[0m\u001b[0;34m,\u001b[0m \u001b[0mthresholds\u001b[0m \u001b[0;34m*\u001b[0m \u001b[0mtotal\u001b[0m\u001b[0;34m,\u001b[0m \u001b[0mside\u001b[0m\u001b[0;34m=\u001b[0m\u001b[0;34m\"left\"\u001b[0m\u001b[0;34m)\u001b[0m\u001b[0;34m\u001b[0m\u001b[0;34m\u001b[0m\u001b[0m\n\u001b[0m\u001b[1;32m    350\u001b[0m \u001b[0;34m\u001b[0m\u001b[0m\n\u001b[1;32m    351\u001b[0m     \u001b[0;32mreturn\u001b[0m \u001b[0midx\u001b[0m\u001b[0;34m\u001b[0m\u001b[0;34m\u001b[0m\u001b[0m\n",
      "\u001b[0;32m<__array_function__ internals>\u001b[0m in \u001b[0;36msearchsorted\u001b[0;34m(*args, **kwargs)\u001b[0m\n",
      "\u001b[0;32m/opt/anaconda3/lib/python3.8/site-packages/numpy/core/fromnumeric.py\u001b[0m in \u001b[0;36msearchsorted\u001b[0;34m(a, v, side, sorter)\u001b[0m\n\u001b[1;32m   1339\u001b[0m \u001b[0;34m\u001b[0m\u001b[0m\n\u001b[1;32m   1340\u001b[0m     \"\"\"\n\u001b[0;32m-> 1341\u001b[0;31m     \u001b[0;32mreturn\u001b[0m \u001b[0m_wrapfunc\u001b[0m\u001b[0;34m(\u001b[0m\u001b[0ma\u001b[0m\u001b[0;34m,\u001b[0m \u001b[0;34m'searchsorted'\u001b[0m\u001b[0;34m,\u001b[0m \u001b[0mv\u001b[0m\u001b[0;34m,\u001b[0m \u001b[0mside\u001b[0m\u001b[0;34m=\u001b[0m\u001b[0mside\u001b[0m\u001b[0;34m,\u001b[0m \u001b[0msorter\u001b[0m\u001b[0;34m=\u001b[0m\u001b[0msorter\u001b[0m\u001b[0;34m)\u001b[0m\u001b[0;34m\u001b[0m\u001b[0;34m\u001b[0m\u001b[0m\n\u001b[0m\u001b[1;32m   1342\u001b[0m \u001b[0;34m\u001b[0m\u001b[0m\n\u001b[1;32m   1343\u001b[0m \u001b[0;34m\u001b[0m\u001b[0m\n",
      "\u001b[0;32m/opt/anaconda3/lib/python3.8/site-packages/numpy/core/fromnumeric.py\u001b[0m in \u001b[0;36m_wrapfunc\u001b[0;34m(obj, method, *args, **kwds)\u001b[0m\n\u001b[1;32m     59\u001b[0m \u001b[0;34m\u001b[0m\u001b[0m\n\u001b[1;32m     60\u001b[0m     \u001b[0;32mtry\u001b[0m\u001b[0;34m:\u001b[0m\u001b[0;34m\u001b[0m\u001b[0;34m\u001b[0m\u001b[0m\n\u001b[0;32m---> 61\u001b[0;31m         \u001b[0;32mreturn\u001b[0m \u001b[0mbound\u001b[0m\u001b[0;34m(\u001b[0m\u001b[0;34m*\u001b[0m\u001b[0margs\u001b[0m\u001b[0;34m,\u001b[0m \u001b[0;34m**\u001b[0m\u001b[0mkwds\u001b[0m\u001b[0;34m)\u001b[0m\u001b[0;34m\u001b[0m\u001b[0;34m\u001b[0m\u001b[0m\n\u001b[0m\u001b[1;32m     62\u001b[0m     \u001b[0;32mexcept\u001b[0m \u001b[0mTypeError\u001b[0m\u001b[0;34m:\u001b[0m\u001b[0;34m\u001b[0m\u001b[0;34m\u001b[0m\u001b[0m\n\u001b[1;32m     63\u001b[0m         \u001b[0;31m# A TypeError occurs if the object does have such a method in its\u001b[0m\u001b[0;34m\u001b[0m\u001b[0;34m\u001b[0m\u001b[0;34m\u001b[0m\u001b[0m\n",
      "\u001b[0;31mKeyboardInterrupt\u001b[0m: "
     ]
    }
   ],
   "source": [
    "# https://stellargraph.readthedocs.io/en/stable/demos/link-prediction/node2vec-link-prediction.html#refs\n",
    "import multiprocessing\n",
    "\n",
    "p = 0.25\n",
    "q = 0.25\n",
    "dimensions = 128\n",
    "num_walks = 30\n",
    "walk_length = 50\n",
    "window_size = 10\n",
    "num_iter = 1\n",
    "workers = multiprocessing.cpu_count()\n",
    "\n",
    "\n",
    "from stellargraph.data import BiasedRandomWalk\n",
    "from gensim.models import Word2Vec\n",
    "\n",
    "\n",
    "rw = BiasedRandomWalk(subG)\n",
    "walks = rw.run(subG.nodes(), n=num_walks, length=walk_length, p=p, q=q)"
   ]
  },
  {
   "cell_type": "code",
   "execution_count": null,
   "metadata": {
    "colab": {},
    "colab_type": "code",
    "id": "jHj3ymbqfL24"
   },
   "outputs": [],
   "source": [
    "model = Word2Vec(\n",
    "    walks,\n",
    "    size=dimensions,\n",
    "    window=window_size,\n",
    "    min_count=0,\n",
    "    sg=1,\n",
    "    workers=workers,\n",
    "    iter=num_iter,\n",
    ")"
   ]
  },
  {
   "cell_type": "code",
   "execution_count": null,
   "metadata": {
    "colab": {},
    "colab_type": "code",
    "id": "WO_H36fRCpOU"
   },
   "outputs": [],
   "source": [
    "x_train, x_dev, y_train, y_dev = train_test_split(examples, labels, train_size=0.75, test_size=0.25)"
   ]
  },
  {
   "cell_type": "code",
   "execution_count": null,
   "metadata": {
    "colab": {},
    "colab_type": "code",
    "id": "2UMLL2rXBMCh"
   },
   "outputs": [],
   "source": [
    "from sklearn.pipeline import Pipeline\n",
    "from sklearn.linear_model import LogisticRegressionCV\n",
    "from sklearn.metrics import roc_auc_score\n",
    "from sklearn.preprocessing import StandardScaler\n",
    "\n",
    "def hadamard(u, v):\n",
    "    return u * v\n",
    "\n",
    "# def l1(u, v):\n",
    "#     return np.abs(u - v)\n",
    "\n",
    "# def l2(u, v):\n",
    "#     return (u - v) ** 2\n",
    "\n",
    "train_embs = [hadamard(model.wv[s], model.wv[t]) for s, t in x_train]\n",
    "dev_embs = [hadamard(model.wv[s], model.wv[t]) for s, t in x_dev]\n",
    "\n",
    "lr_clf = LogisticRegressionCV(Cs=10, cv=10, scoring=\"roc_auc\", max_iter=2000)\n",
    "clf = Pipeline(steps=[(\"sc\", StandardScaler()), (\"clf\", lr_clf)])\n",
    "clf.fit(train_embs, y_train)\n",
    "\n",
    "predicted = clf.predict_proba(dev_embs)\n",
    "cols = list(clf.classes_).index(1)\n",
    "score = roc_auc_score(y_dev, predicted[:, cols])\n",
    "print(score) "
   ]
  },
  {
   "cell_type": "code",
   "execution_count": null,
   "metadata": {
    "colab": {},
    "colab_type": "code",
    "id": "LIEM37NrBXeX"
   },
   "outputs": [],
   "source": [
    "test_embeddings = [hadamard(model.wv[s], model.wv[t]) for s, t in test_pair]\n",
    "predicted = lr_clf.predict_proba(test_embeddings)\n",
    "import csv\n",
    "with open(\"predict_yjc.csv\", \"w\") as f:\n",
    "    writer = csv.writer(f)\n",
    "    writer.writerow([\"Id\", \"Predicted\"])\n",
    "    _id = 1\n",
    "    for p in predicted:\n",
    "        writer.writerow([_id, p[1]])\n",
    "        _id += 1\n",
    "f.close()"
   ]
  },
  {
   "cell_type": "code",
   "execution_count": null,
   "metadata": {},
   "outputs": [],
   "source": []
  }
 ],
 "metadata": {
  "accelerator": "GPU",
  "colab": {
   "collapsed_sections": [],
   "name": "Test-Copy1.ipynb",
   "provenance": []
  },
  "kernelspec": {
   "display_name": "Python 3",
   "language": "python",
   "name": "python3"
  },
  "language_info": {
   "codemirror_mode": {
    "name": "ipython",
    "version": 3
   },
   "file_extension": ".py",
   "mimetype": "text/x-python",
   "name": "python",
   "nbconvert_exporter": "python",
   "pygments_lexer": "ipython3",
   "version": "3.8.3"
  }
 },
 "nbformat": 4,
 "nbformat_minor": 4
}
