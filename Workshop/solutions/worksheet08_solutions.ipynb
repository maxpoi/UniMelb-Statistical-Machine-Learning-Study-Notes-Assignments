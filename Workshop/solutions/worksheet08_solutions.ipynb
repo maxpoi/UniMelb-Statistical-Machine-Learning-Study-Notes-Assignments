{
 "cells": [
  {
   "cell_type": "markdown",
   "metadata": {},
   "source": [
    "# COMP90051 Workshop 8\n",
    "## Recurrent neural networks (RNNs)\n",
    "***\n",
    "\n",
    "In this worksheet, we'll implement a _recurrent neural network (RNN)_ for sentiment analysis of movie reviews. The input to the network will be a movie review, represented as a string, and the output will be a binary label which is \"1\" if the sentiment is _positive_ and \"0\" if the sentiment is _negative_. In practice, a network like this could be applied to social media monitoring—e.g. tracking customer's perceptions of a new product, or prioritising support for disgruntled customers.\n",
    "\n",
    "By the end of this worksheet, you should be able to:\n",
    "\n",
    "* convert raw text to a vector representation for input into a neural network\n",
    "* build a neural network with a recurrent architecture to take advantage of the _order_ of words in text\n",
    "* use `tf.data` to feed data into neural network as an alternative to NumPy arrays"
   ]
  },
  {
   "cell_type": "code",
   "execution_count": 1,
   "metadata": {},
   "outputs": [
    {
     "name": "stdout",
     "output_type": "stream",
     "text": [
      "TensorFlow version:  2.3.0\n"
     ]
    }
   ],
   "source": [
    "import numpy as np\n",
    "import matplotlib.pyplot as plt\n",
    "plt.rcParams['figure.dpi'] = 108\n",
    "\n",
    "import tensorflow as tf\n",
    "from packaging import version\n",
    "print(\"TensorFlow version: \", tf.__version__)\n",
    "assert version.parse(tf.__version__) >= version.parse(\"2.3\"), \\\n",
    "    \"This notebook requires TensorFlow 2.3 or above.\"\n",
    "\n",
    "from tensorflow import keras\n",
    "from tensorflow.keras import layers\n",
    "from tensorflow.keras.layers.experimental.preprocessing import TextVectorization"
   ]
  },
  {
   "cell_type": "markdown",
   "metadata": {},
   "source": [
    "## 1. Large Movie Review (IMDb) Dataset\n",
    "\n",
    "In order to train and evaluate our sentiment analysis model, we'll use the _Large Movie Review Dataset_. \n",
    "It contains 50,000 movie reviews crawled from the [IMDb website](https://www.imdb.com/), split evenly into train/test sets.\n",
    "The dataset excludes _neutral reviews_ (with a rating $> 4/10$ and $< 7/10$) and defines:\n",
    "\n",
    "* a _positive review_ as having a rating $\\geq 7/10$ \n",
    "* a _negative review_ as having a rating $\\leq 4/10$.\n",
    "\n",
    "More information about the dataset is available [here](https://ai.stanford.edu/~amaas/data/sentiment/).\n",
    "\n",
    "We'll download the dataset using the [TensorFlow Datasets (TFDS) library](https://www.tensorflow.org/datasets/overview), which provides access to a variety of machine learning datasets.\n",
    "First, we need to install the TFDS library using `pip`, since it's not included in core TensorFlow."
   ]
  },
  {
   "cell_type": "code",
   "execution_count": 2,
   "metadata": {},
   "outputs": [],
   "source": [
    "!pip install -q tensorflow-datasets"
   ]
  },
  {
   "cell_type": "markdown",
   "metadata": {},
   "source": [
    "After installing the library, we can use it to download the dataset."
   ]
  },
  {
   "cell_type": "code",
   "execution_count": 3,
   "metadata": {},
   "outputs": [],
   "source": [
    "import tensorflow_datasets as tfds\n",
    "(train_ds, test_ds), ds_info = tfds.load(name='imdb_reviews', split=('train', 'test'), as_supervised=True, with_info=True)"
   ]
  },
  {
   "cell_type": "markdown",
   "metadata": {},
   "source": [
    "The `train_ds` and `test_ds` variables represent the train/test datasets respectively, however **they aren't stored in NumPy arrays as we're used to**.\n",
    "Instead, the TFDS library returns a special type of object called a [TensorFlow Dataset](https://www.tensorflow.org/api_docs/python/tf/data/Dataset).\n",
    "A `Dataset` offers two main advantages over NumPy arrays:\n",
    "\n",
    "1. It can represent large datasets _without reading all of the data into memory_. This is important for large-scale applications, where the dataset must be streamed from disk into memory.\n",
    "2. It represents the output of a _data pipeline_ (which may include transformations) rather than the data itself.\n",
    "\n",
    "Since a `Dataset` is not guaranteed to completely exist in memory, random access (i.e. indexing) is not supported.\n",
    "Instead, a `Dataset` behaves more like a Python iterable—we can only request the _next_ element, which may be a single instance or a batch of instances.\n",
    "\n",
    "Let's iterate over the first 3 elements in `train_ds` and print them out."
   ]
  },
  {
   "cell_type": "code",
   "execution_count": 4,
   "metadata": {},
   "outputs": [
    {
     "name": "stdout",
     "output_type": "stream",
     "text": [
      "A negative review:\n",
      " This was an absolutely terrible movie. Don't be lured in by Christopher Walken or Michael Ironside. Both are great actors, but this must simply be their worst role in history. Even their great acting could not redeem this movie's ridiculous storyline. This movie is an early nineties US propaganda piece. The most pathetic scenes were those when the Columbian rebels were making their cases for revolutions. Maria Conchita Alonso appeared phony, and her pseudo-love affair with Walken was nothing but a pathetic emotional plug in a movie that was devoid of any real meaning. I am disappointed that there are movies like this, ruining actor's like Christopher Walken's good name. I could barely sit through it. \n",
      "\n",
      "A negative review:\n",
      " I have been known to fall asleep during films, but this is usually due to a combination of things including, really tired, being warm and comfortable on the sette and having just eaten a lot. However on this occasion I fell asleep because the film was rubbish. The plot development was constant. Constantly slow and boring. Things seemed to happen, but with no explanation of what was causing them or why. I admit, I may have missed part of the film, but i watched the majority of it and everything just seemed to happen of its own accord without any real concern for anything else. I cant recommend this film at all. \n",
      "\n",
      "A negative review:\n",
      " Mann photographs the Alberta Rocky Mountains in a superb fashion, and Jimmy Stewart and Walter Brennan give enjoyable performances as they always seem to do. <br /><br />But come on Hollywood - a Mountie telling the people of Dawson City, Yukon to elect themselves a marshal (yes a marshal!) and to enforce the law themselves, then gunfighters battling it out on the streets for control of the town? <br /><br />Nothing even remotely resembling that happened on the Canadian side of the border during the Klondike gold rush. Mr. Mann and company appear to have mistaken Dawson City for Deadwood, the Canadian North for the American Wild West.<br /><br />Canadian viewers be prepared for a Reefer Madness type of enjoyable howl with this ludicrous plot, or, to shake your head in disgust. \n",
      "\n"
     ]
    }
   ],
   "source": [
    "for x, y in train_ds.take(3).as_numpy_iterator():\n",
    "    # decode binary string to UTF-8\n",
    "    review = x.decode()\n",
    "    # convert integer binary label to string\n",
    "    label = \"positive\" if y == 1 else \"negative\"\n",
    "    print(\"A {} review:\\n\".format(label), review, \"\\n\")"
   ]
  },
  {
   "cell_type": "markdown",
   "metadata": {},
   "source": [
    "***\n",
    "**Question:** Based on the above training examples, what features do you think will be important for predicting positive/negative sentiment? If the words in the text were randomly shuffled, do you think accuracy would suffer?\n",
    "\n",
    "_Answer:_ The word order is probably not crucial for predicting sentiment. The absence or presence of certain words provide a strong signal, regardless of where they appear in the text. For example, the presence of words like \"terrible\", \"disappointed\" and \"ridiculous\" are likely to be correlated with negative sentiment. However, mistakes could be made if word order is ignored—e.g. \"terrible\" may refer to an experience a character goes through in a movie, rather than the movie itself.\n",
    "***\n",
    "\n",
    "When working with Datasets, batching and random shuffling are treated as steps in the data input pipeline.\n",
    "In the code block below, we add these steps to the pipeline in preparation for pre-processing and training:\n",
    "\n",
    "* First, we cache the entire dataset in memory. This is okay since the dataset is relatively small.\n",
    "* Second, we randomly shuffle the instances.\n",
    "* Third, we group the instances into batches of size 128.\n",
    "* Fourth, we call prefetch to reduce latency"
   ]
  },
  {
   "cell_type": "code",
   "execution_count": 5,
   "metadata": {},
   "outputs": [],
   "source": [
    "train_ds = train_ds.cache()\n",
    "train_ds = train_ds.shuffle(ds_info.splits['train'].num_examples)\n",
    "train_ds = train_ds.batch(128)\n",
    "train_ds = train_ds.prefetch(tf.data.experimental.AUTOTUNE)\n",
    "\n",
    "test_ds = test_ds.cache()\n",
    "test_ds = test_ds.shuffle(ds_info.splits['test'].num_examples)\n",
    "test_ds = test_ds.batch(128)\n",
    "test_ds = test_ds.prefetch(tf.data.experimental.AUTOTUNE)"
   ]
  },
  {
   "cell_type": "markdown",
   "metadata": {},
   "source": [
    "## 2. Text preprocessing\n",
    "\n",
    "In order to feed textual data into a neural network, we need to transform it into a vector representation.\n",
    "This is often done in two steps:\n",
    "\n",
    "1. **Tokenisation.**\n",
    "The text is split into a sequence of words/tokens. \n",
    "For example, when splitting on white space, the text \"This was an absolutely terrible movie\" would become \\[\"This\", \"was\", \"an\", \"absolutely\", \"terrible\", \"movie\"\\].\n",
    "\n",
    "2. **Word vectorisation/embedding.** \n",
    "Individual words/tokens are mapped to a vector representation. \n",
    "We'll start with a simple one-hot vector encoding, and map to a lower-dimensional representation later on.\n",
    "\n",
    "For the one-hot vector encoding, we choose a vocabulary of size $K$.\n",
    "Each word in the vocabulary is associated with a dimension in the space, or equivalently a word id in the set $\\{0, \\ldots, K-1\\}$.\n",
    "Word ids 0 and 1 are reserved to represent _padding_ and _unknown words_ (also known as out-of-vocabulary words), respectively.\n",
    "\n",
    "In between steps 1 and 2 above, we'll also do some **standardisation**:\n",
    "\n",
    "* we'll convert text to lowercase\n",
    "* we'll remove HTML break tags \"\\<br /\\>\" (which you might have noticed in the third review we printed out above)\n",
    "* we'll remove punctuation characters\n",
    "\n",
    "We can perform all of these steps using a built-in layer from Keras called [`TextVectorization`](https://keras.io/api/layers/preprocessing_layers/core_preprocessing_layers/text_vectorization/).\n",
    "It does everything we need by default, apart from the standardisation, which we need to specify manually.\n",
    "\n",
    "In the code block below, we define a function to perform standardisation."
   ]
  },
  {
   "cell_type": "code",
   "execution_count": 6,
   "metadata": {},
   "outputs": [],
   "source": [
    "import re\n",
    "import string\n",
    "\n",
    "def custom_standardisation(input_data):\n",
    "    \"\"\"\n",
    "    Args:\n",
    "        input_data : a Tensor of shape (batch_size,)\n",
    "    \n",
    "    Return:\n",
    "        a Tensor of shape (batch_size,)\n",
    "    \"\"\"\n",
    "    # Convert string to lowercase\n",
    "    input_data = tf.strings.lower(input_data)\n",
    "    \n",
    "    # Remove break tags\n",
    "    input_data = tf.strings.regex_replace(input_data, \"<br />\", \" \")\n",
    "    \n",
    "    # Remove punctuation\n",
    "    punctuation_pattern = \"[%s]\" % re.escape(string.punctuation)\n",
    "    input_data = tf.strings.regex_replace(input_data, punctuation_pattern, \"\")\n",
    "    return input_data"
   ]
  },
  {
   "cell_type": "markdown",
   "metadata": {},
   "source": [
    "Next we define the `TextVectorization` layer. \n",
    "Note that we're limiting the size of the vocabulary to $K = 5000$. \n",
    "We'll also require that the sequences be of uniform length 300 to improve efficiency.\n",
    "If a review contains more than 300 words, only the first 300 words will be kept.\n",
    "If a review contains less than 300 words, the remaining \"slots\" will be filled with padding (id 0)."
   ]
  },
  {
   "cell_type": "code",
   "execution_count": 7,
   "metadata": {},
   "outputs": [],
   "source": [
    "VOCAB_SIZE = 5000\n",
    "MAX_LEN = 300\n",
    "vectorise_layer = TextVectorization(max_tokens=VOCAB_SIZE, output_mode=\"int\", \n",
    "                                    standardize=custom_standardisation, \n",
    "                                    output_sequence_length=MAX_LEN)"
   ]
  },
  {
   "cell_type": "markdown",
   "metadata": {},
   "source": [
    "To set the vocabulary for the layer, we need to call the `adapt` method and pass in some training data."
   ]
  },
  {
   "cell_type": "code",
   "execution_count": 8,
   "metadata": {},
   "outputs": [],
   "source": [
    "# Training dataset without class labels\n",
    "text_ds = train_ds.map(lambda x, y: x)\n",
    "vectorise_layer.adapt(text_ds)"
   ]
  },
  {
   "cell_type": "markdown",
   "metadata": {},
   "source": [
    "We can access the learned vocabulary using the `get_vocabulary` method. \n",
    "The most frequently occurring words are assigned the smallest integer ids."
   ]
  },
  {
   "cell_type": "code",
   "execution_count": 9,
   "metadata": {},
   "outputs": [
    {
     "data": {
      "text/plain": [
       "['', '[UNK]', 'the', 'and', 'a', 'of', 'to', 'is', 'in', 'it']"
      ]
     },
     "execution_count": 9,
     "metadata": {},
     "output_type": "execute_result"
    }
   ],
   "source": [
    "vectorise_layer.get_vocabulary()[:10]"
   ]
  },
  {
   "cell_type": "markdown",
   "metadata": {},
   "source": [
    "To test our `TextVectorization` layer, let's apply it to the first batch of training data and print out the first 3 examples in the batch."
   ]
  },
  {
   "cell_type": "code",
   "execution_count": 10,
   "metadata": {},
   "outputs": [
    {
     "name": "stdout",
     "output_type": "stream",
     "text": [
      "[[ 235   28    5    2 2523 2627    5 1020    4 2505  910  379    8   11\n",
      "   411    2  882 2952    5 2529   16    4    1 1550    1  550    7    2\n",
      "    85  277  568   20    1    5    2  332 2072  857    6 2193    4   50\n",
      "   433  409    5  967    3  131    2 2011  207  176  202  241    8   11\n",
      "  3178    2  277 3758    7 1083   16    1    8  783  288    2  909  208\n",
      "   179  821   14  205   14    2  508    7 1619    6 1679   15   30    2\n",
      "     1    1   35    2  262 2884    2 4090  207   20   99 2151 1935    8\n",
      "    11  379  297 4026   43  249    4  393 1172   15   24 1032    6 1100\n",
      "    46   59  127 4406    4   73 1849  999  100  291 1815    5    1  158\n",
      "     2    1 1172    4    1  186    7   52 2235   18    9   61  296    4\n",
      "   163  225  154  138  897  555  881    1  500  252    1    5    4  446\n",
      "  4944   12  180    6  208  785   45    5 2351    1  158  513   80   81\n",
      "   876    1  714  178    4  247  885    4 1658    1  108    1   43    4\n",
      "     1   16    4 3659    3 4026 1530    4 1661 2723   16    2  490    8\n",
      "     2 3099    5  212  115    3    2  230   36  335    6 1276   20   87\n",
      "    31    2 1741 1390    8    4    1    1 4937    3   29  765    6   67\n",
      "   134 4026    3    1   23 2909    6  806   45  704  165   20  154 1753\n",
      "   203 1443    2  313    7    4  345   28    1  266  493   45    6   26\n",
      "   233   35    1    2  642 1936  188   20    2 2967    7  239 1084 1131\n",
      "     9   15    4  458  466    5  671   12  144  856   73   16    2  346\n",
      "     5  257  276  485   45  468  171  208    2  126    3    2    1  793\n",
      "     1    6  119    4 2762  507]\n",
      " [  10  209   11   17   20  244   11 2659    3   10  175   67   86  250\n",
      "    68  856  140   11  409    5 1180   29   21  160   31   30    3    9\n",
      "   296  123    1  185    4  163    1   10  118   11   17    7   15  324\n",
      "    18   12  144  378    2  857  139  188   64 1610   15 2428   10 2070\n",
      "    12  857   65 1218  184    4 1039 1589 2712    3 2549   12    4    2\n",
      "   694    1    1  194  471  951    4  700 2143 3685  551   68    1   20\n",
      "     4  756 2143 3685 4744    1 1919  324  139  204  539    1 4517   16\n",
      "  1812   83    2    1   76  777   15  226    3 2162  443 1815    5    1\n",
      "  2259    7   30   22  349    6 1563   56 2861    1   16    1   28   49\n",
      "   150   10   68  130   42   11   17    7    9 1313    2 4217    1 1376\n",
      "     8    2  183   12  408 2294 1753  275    2  457   31 3246   97  350\n",
      "    11   17   15    4   49  471   89 1359   16   11    1 1286   15    4\n",
      "    17    0    0    0    0    0    0    0    0    0    0    0    0    0\n",
      "     0    0    0    0    0    0    0    0    0    0    0    0    0    0\n",
      "     0    0    0    0    0    0    0    0    0    0    0    0    0    0\n",
      "     0    0    0    0    0    0    0    0    0    0    0    0    0    0\n",
      "     0    0    0    0    0    0    0    0    0    0    0    0    0    0\n",
      "     0    0    0    0    0    0    0    0    0    0    0    0    0    0\n",
      "     0    0    0    0    0    0    0    0    0    0    0    0    0    0\n",
      "     0    0    0    0    0    0    0    0    0    0    0    0    0    0\n",
      "     0    0    0    0    0    0    0    0    0    0    0    0    0    0\n",
      "     0    0    0    0    0    0]\n",
      " [  11  119   13    4    1    8  314  218   14    9   13    2   85 2713\n",
      "     6  332   33   30    1  173 1017  148    9   13  109    1   20  687\n",
      "   244    2    1  220   23    4  330    1  220  570    8    4    1 3915\n",
      "     2 1229    7  487  571   27  486    6  532    2  311   18   24  317\n",
      "  4124  204  203    2  122    5   87    2  291  465   23    2 1564    1\n",
      "     2 4301    1    3    2  181 2841  517  489  204  584   77    2  311\n",
      "     7    1    1  462    1   10  285  104  642    5   11  119   20    1\n",
      "   325 1817    3  389    3    2    1  220    2   61  104   20    2 2114\n",
      "    22  193   26  526  134   43   33  646  508  285    4  200   12   43\n",
      "   109   74  597   41  952  542    5    8   24  698    2 1470    7   11\n",
      "     8    1    1   85   30  325 2713  367   45  487    2    1   61  104\n",
      "   200   65   90    3    9  149  180 1555   18   10  285   33  379    3\n",
      "    13   62 1501   91   10    1   12    2 2877   65    1    6   49  206\n",
      "    34   65  596    2  166  101   18   16  265 1396 1250 2843   13    2\n",
      "  1229   24  317   13 4672 2843    3    2  291  465   65    1    4  181\n",
      "     1 1413 4322    3    1    1    1  462   13    1    6  320   42    2\n",
      "     1   10   25 1051    4  716   42   12 1799  145   49  206   61  104\n",
      "   178 3181   69   85  127   13    2  626  751 3194  374    3 4074   13\n",
      "     2  305 2085   10   38  305 2085   18    8   11 1791   58  130    4\n",
      "  1049  160  360    3    2  305   58  137 1166    3  365    1  946   35\n",
      "    12    9   13    4   52  160  119  601  431   50  642  466   56   20\n",
      "     1    3  601  431   12  284]]\n"
     ]
    }
   ],
   "source": [
    "for batch in text_ds.take(1).map(vectorise_layer).as_numpy_iterator():\n",
    "    print(batch[0:3])"
   ]
  },
  {
   "cell_type": "markdown",
   "metadata": {},
   "source": [
    "## 3. RNN-based classifier\n",
    "\n",
    "Now that we've prepared a layer for preprocessing, we're ready to implement the neural network.\n",
    "The network will consist of three main components:\n",
    "\n",
    "1. **Embedding layer.** This layer will map word vectors from a sparse one-hot encoded representation to a dense lower-dimensional embedding space. It is effectively equivalent to a dense layer with a linear activation function.\n",
    "2. **RNN layer.** This layer will sequentially apply an RNN cell to the densely-encoded word vectors. Since we're doing classification, we only need to use the output at the _end of the sequence_. In other applications, such as language modelling, we would use the output from _each element of the sequence_.\n",
    "3. **Dense layers.** These layers will process the final output of the RNN layer to produce a sentiment classification.\n",
    "\n",
    "***\n",
    "**Exercise:** Complete the following code block to implement an RNN-based sentiment classifier. You should add three layers: \n",
    "\n",
    "* an `LSTM` layer with `L_UNITS = 32` units followed by \n",
    "* a `Dense` layer with `D1_UNITS = 32` units, and \n",
    "* a `Dense` layer with 1 unit. \n",
    "\n",
    "\\[Note: you may like to experiment with your own architecture. For example, you could use an `SimpleRNN` layer in place of a `LSTM` layer, or a `Bidirectional` RNN.\\]\n",
    "***"
   ]
  },
  {
   "cell_type": "code",
   "execution_count": 11,
   "metadata": {},
   "outputs": [
    {
     "name": "stdout",
     "output_type": "stream",
     "text": [
      "Model: \"sequential\"\n",
      "_________________________________________________________________\n",
      "Layer (type)                 Output Shape              Param #   \n",
      "=================================================================\n",
      "text_vectorization (TextVect (None, 300)               0         \n",
      "_________________________________________________________________\n",
      "embedding (Embedding)        (None, 300, 32)           160000    \n",
      "_________________________________________________________________\n",
      "lstm (LSTM)                  (None, 32)                8320      \n",
      "_________________________________________________________________\n",
      "dense (Dense)                (None, 32)                1056      \n",
      "_________________________________________________________________\n",
      "dense_1 (Dense)              (None, 1)                 33        \n",
      "=================================================================\n",
      "Total params: 169,409\n",
      "Trainable params: 169,409\n",
      "Non-trainable params: 0\n",
      "_________________________________________________________________\n"
     ]
    }
   ],
   "source": [
    "DIM_EMBED = 32\n",
    "L_UNITS = 32\n",
    "D1_UNITS = 32\n",
    "\n",
    "model = keras.Sequential([\n",
    "    # Specify that the model will accept a 1D tensor of strings as input with \n",
    "    # an unknown batch size\n",
    "    keras.Input(shape=(None,), dtype=tf.string),\n",
    "    \n",
    "    # Vectorise the strings using the preprocessing layer we defined above\n",
    "    vectorise_layer,\n",
    "    \n",
    "    # Map the sequence of one-hot encoded integer vectors to a \n",
    "    # lower-dimensional embedding space. By setting `mask_zero = True`, we \n",
    "    # instruct Keras to apply a mask so that downstream layers can ignore \n",
    "    # padded parts of the sequence.\n",
    "    layers.Embedding(VOCAB_SIZE, DIM_EMBED, mask_zero=True),\n",
    "    \n",
    "    # Sequentially apply an LSTM cell to the sequence of word embeddings, \n",
    "    # returning only the final output\n",
    "    layers.LSTM(L_UNITS), # fill in\n",
    "    \n",
    "    # Apply two dense layers to output the probability of a positive sentiment\n",
    "    layers.Dense(D1_UNITS, activation='relu'), # fill in\n",
    "    layers.Dense(1, activation='sigmoid') # fill in\n",
    "])\n",
    "\n",
    "model.summary()"
   ]
  },
  {
   "cell_type": "markdown",
   "metadata": {},
   "source": [
    "Since the final output is a scalar corresponding to the probability of a positive sentiment, we'll minimise the binary cross-entropy loss.\n",
    "\n",
    "In the code block below, we compile the model and run training for 15 epochs.\n",
    "Training may take 10-15 min to complete on a CPU."
   ]
  },
  {
   "cell_type": "code",
   "execution_count": 12,
   "metadata": {},
   "outputs": [
    {
     "name": "stdout",
     "output_type": "stream",
     "text": [
      "Epoch 1/15\n",
      "196/196 [==============================] - 62s 315ms/step - loss: 0.6927 - accuracy: 0.5167 - val_loss: 0.6917 - val_accuracy: 0.5405\n",
      "Epoch 2/15\n",
      "196/196 [==============================] - 56s 284ms/step - loss: 0.6422 - accuracy: 0.6617 - val_loss: 0.5596 - val_accuracy: 0.7965\n",
      "Epoch 3/15\n",
      "196/196 [==============================] - 60s 305ms/step - loss: 0.4864 - accuracy: 0.8267 - val_loss: 0.4411 - val_accuracy: 0.8257\n",
      "Epoch 4/15\n",
      "196/196 [==============================] - 65s 330ms/step - loss: 0.3633 - accuracy: 0.8618 - val_loss: 0.3513 - val_accuracy: 0.8576\n",
      "Epoch 5/15\n",
      "196/196 [==============================] - 64s 325ms/step - loss: 0.2918 - accuracy: 0.8894 - val_loss: 0.3269 - val_accuracy: 0.8656\n",
      "Epoch 6/15\n",
      "196/196 [==============================] - 58s 294ms/step - loss: 0.2592 - accuracy: 0.9042 - val_loss: 0.3165 - val_accuracy: 0.8694\n",
      "Epoch 7/15\n",
      "196/196 [==============================] - 55s 282ms/step - loss: 0.2365 - accuracy: 0.9136 - val_loss: 0.3265 - val_accuracy: 0.8692\n",
      "Epoch 8/15\n",
      "196/196 [==============================] - 54s 276ms/step - loss: 0.2219 - accuracy: 0.9210 - val_loss: 0.3163 - val_accuracy: 0.8699\n",
      "Epoch 9/15\n",
      "196/196 [==============================] - 55s 281ms/step - loss: 0.2093 - accuracy: 0.9276 - val_loss: 0.3407 - val_accuracy: 0.8661\n",
      "Epoch 10/15\n",
      "196/196 [==============================] - 55s 279ms/step - loss: 0.1993 - accuracy: 0.9314 - val_loss: 0.3320 - val_accuracy: 0.8672\n",
      "Epoch 11/15\n",
      "196/196 [==============================] - 55s 283ms/step - loss: 0.1874 - accuracy: 0.9382 - val_loss: 0.3466 - val_accuracy: 0.8649\n",
      "Epoch 12/15\n",
      "196/196 [==============================] - 57s 289ms/step - loss: 0.1802 - accuracy: 0.9406 - val_loss: 0.3402 - val_accuracy: 0.8642\n",
      "Epoch 13/15\n",
      "196/196 [==============================] - 55s 281ms/step - loss: 0.1739 - accuracy: 0.9444 - val_loss: 0.3584 - val_accuracy: 0.8609\n",
      "Epoch 14/15\n",
      "196/196 [==============================] - 55s 280ms/step - loss: 0.1671 - accuracy: 0.9481 - val_loss: 0.3765 - val_accuracy: 0.8602\n",
      "Epoch 15/15\n",
      "196/196 [==============================] - 56s 283ms/step - loss: 0.1647 - accuracy: 0.9480 - val_loss: 0.3695 - val_accuracy: 0.8589\n"
     ]
    }
   ],
   "source": [
    "model.compile(loss=keras.losses.BinaryCrossentropy(from_logits=False),\n",
    "              optimizer=keras.optimizers.Adam(1e-4),\n",
    "              metrics=['accuracy'])\n",
    "\n",
    "history = model.fit(train_ds, validation_data=test_ds, epochs=15)"
   ]
  },
  {
   "cell_type": "markdown",
   "metadata": {},
   "source": [
    "Let's plot loss curves to check for overfitting."
   ]
  },
  {
   "cell_type": "code",
   "execution_count": 13,
   "metadata": {},
   "outputs": [
    {
     "data": {
      "image/png": "[encoded data removed]",
      "text/plain": [
       "<Figure size 648x432 with 1 Axes>"
      ]
     },
     "metadata": {
      "needs_background": "light"
     },
     "output_type": "display_data"
    }
   ],
   "source": [
    "plt.plot(history.epoch, history.history['loss'], label='Train')\n",
    "plt.plot(history.epoch, history.history['val_loss'], label='Test')\n",
    "plt.ylabel('Loss')\n",
    "plt.xlabel('Epoch')\n",
    "plt.legend()\n",
    "plt.show()"
   ]
  },
  {
   "cell_type": "markdown",
   "metadata": {},
   "source": [
    "The loss curves show that the model is overfitting, as the training loss has dropped below the test loss.\n",
    "\n",
    "***\n",
    "**Question:** What actions can we take to prevent overfitting? What could be the main cause of overfitting in this case?\n",
    "\n",
    "_Answer:_ \n",
    "It's not surprising that the model is overfitting, as the training data is relatively small, and we have not applied any regularisation.\n",
    "Looking at the number of parameters in the various layers, we see that the `Embedding` layer contains 94\\% of the total parameters. \n",
    "So it may be one of the main culprits for overfitting.\n",
    "\n",
    "To reduce overfitting of the embedding layer in particular, we could try:\n",
    "\n",
    "* Reducing the size of the vocabulary and/or embedding space.\n",
    "* Applying dropout to the features in the embedding space. This can be done by adding a `Dropout` layer after the `Embedding` layer.\n",
    "* Using a pre-trained embedding layer. [TensorFlow Hub](https://tfhub.dev/) provides a repository of pretrained models/layers. For example, we could use the [gnews-swivel-20dim](https://tfhub.dev/google/tf2-preview/gnews-swivel-20dim/1) word embedding which was trained on a 130GB corpus of English news articles.\n",
    "* Using more movie review data (if we can find some).\n",
    "***"
   ]
  },
  {
   "cell_type": "markdown",
   "metadata": {},
   "source": [
    "## 4. Testing the model\n",
    "\n",
    "Since we integrated text prepocessing into the model, it's straightforward to apply it to new test instances. \n",
    "We can simply pass in a NumPy array of strings, and immediately get sentiment predictions.\n",
    "\n",
    "***\n",
    "**Exercise:** Test the sentiment classification model on a movie review of your own.\n",
    "***"
   ]
  },
  {
   "cell_type": "code",
   "execution_count": 14,
   "metadata": {},
   "outputs": [
    {
     "name": "stdout",
     "output_type": "stream",
     "text": [
      "My review:\n",
      " The plot is nothing, the narrative arc is all over the place, and the comedy is tired and sad.\n",
      "Sentiment:  0.22416309\n"
     ]
    }
   ],
   "source": [
    "# fill in\n",
    "my_review = \"The plot is nothing, the narrative arc is all over the place, and the comedy is tired and sad.\"\n",
    "print(\"My review:\\n\", my_review)\n",
    "\n",
    "pred_sentiment = model.predict(np.expand_dims(my_review, 0))\n",
    "print(\"Sentiment: \", pred_sentiment.squeeze())"
   ]
  },
  {
   "cell_type": "markdown",
   "metadata": {},
   "source": [
    "## Bonus: visualising the embedding space (optional)\n",
    "\n",
    "***\n",
    "**Exercise:** Run the code block below to save the word dictionary and weights in the `Embedding` layer as TSV files. You can then load these files in the [Embedding Projector](http://projector.tensorflow.org/) web app to visualise the embedding space.\n",
    "***"
   ]
  },
  {
   "cell_type": "code",
   "execution_count": 15,
   "metadata": {},
   "outputs": [],
   "source": [
    "import io\n",
    "\n",
    "tokens = model.layers[0].get_weights()[0]\n",
    "ids = model.layers[0].get_weights()[1]\n",
    "tokens = tokens[np.argsort(ids)]\n",
    "ids = ids[np.argsort(ids)]\n",
    "embedding_weights = model.layers[1].get_weights()[0]\n",
    "\n",
    "out_v = io.open('vecs.tsv', 'w', encoding='utf-8')\n",
    "out_m = io.open('meta.tsv', 'w', encoding='utf-8')\n",
    "\n",
    "for idx, token in zip(ids[2::], tokens[2::]):\n",
    "    vec = embedding_weights[idx]\n",
    "    out_m.write(token.decode() + \"\\n\")\n",
    "    out_v.write('\\t'.join([str(x) for x in vec]) + \"\\n\")\n",
    "out_v.close()\n",
    "out_m.close()"
   ]
  }
 ],
 "metadata": {
  "kernelspec": {
   "display_name": "Python 3",
   "language": "python",
   "name": "python3"
  },
  "language_info": {
   "codemirror_mode": {
    "name": "ipython",
    "version": 3
   },
   "file_extension": ".py",
   "mimetype": "text/x-python",
   "name": "python",
   "nbconvert_exporter": "python",
   "pygments_lexer": "ipython3",
   "version": "3.8.3"
  }
 },
 "nbformat": 4,
 "nbformat_minor": 4
}
