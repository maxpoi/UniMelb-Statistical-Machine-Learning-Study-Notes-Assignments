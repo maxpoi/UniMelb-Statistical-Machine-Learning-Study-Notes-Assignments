{
 "cells": [
  {
   "cell_type": "markdown",
   "metadata": {},
   "source": [
    "# COMP90051 Workshop 6\n",
    "## Convolutional Neural Networks\n",
    "***\n",
    "In this worksheet, we'll implement a convolutional neural network (CNN) in Keras—a high-level API for deep learning. \n",
    "Since this is our first time using Keras, we'll start by implementing logistic regression—a familiar model from workshop 4. \n",
    "We'll then extend logistic regression to build a CNN by adding 2D convolutional and max-pooling layers.\n",
    "By the end of this worksheet, you should be able to:\n",
    "* define and fit models in Keras\n",
    "* explain the architecture of a basic CNN\n",
    "\n",
    "Let's begin by importing the required packages."
   ]
  },
  {
   "cell_type": "code",
   "execution_count": null,
   "metadata": {},
   "outputs": [],
   "source": [
    "from datetime import datetime\n",
    "from packaging import version\n",
    "\n",
    "import tensorflow as tf\n",
    "from tensorflow import keras\n",
    "from tensorflow.keras import layers\n",
    "\n",
    "import numpy as np\n",
    "import matplotlib.pyplot as plt\n",
    "\n",
    "print(\"TensorFlow version: \", tf.__version__)\n",
    "assert version.parse(tf.__version__).release[0] >= 2, \\\n",
    "    \"This notebook requires TensorFlow 2.0 or above.\""
   ]
  },
  {
   "cell_type": "markdown",
   "metadata": {},
   "source": [
    "## 1. MNIST dataset\n",
    "\n",
    "MNIST is a multi-class classification data set where:\n",
    "* the features are images of handwritten digits (28×28 pixels with a single 8-bit channel)\n",
    "* the target is a label in the set $\\{0, 1, \\ldots, 9\\}$\n",
    "\n",
    "The data is already split into training and test sets. The training set contains 60,000 instances and the test set contains 10,000 instances.\n",
    "\n",
    "Below we load the data into NumPy arrays using a built-in function from Keras.\n",
    "\n",
    "***\n",
    "**Question:** How are the arrays structured? Which index is used to access individual instances? What is the type of the arrays? \n",
    "\n",
    "_Hint: use `array.dtype` to check._\n",
    "***"
   ]
  },
  {
   "cell_type": "code",
   "execution_count": null,
   "metadata": {},
   "outputs": [],
   "source": [
    "(train_images, train_labels), (test_images, test_labels) = keras.datasets.mnist.load_data()\n",
    "print(\"train_images shape:\", train_images.shape)\n",
    "print(\"test_images shape:\", test_images.shape)"
   ]
  },
  {
   "cell_type": "markdown",
   "metadata": {},
   "source": [
    "Before using the data for logistic regression, we need to do some basic pre-processing: \n",
    " * We rescale the images so that each pixel is represented as a float between 0 and 1 (note that the images are already normalised)\n",
    " * Ensure that the final array axis indexes the channel. For colour images, there are typically three channels corresponding to R, G, B. However, in this example we only have a single greyscale channel."
   ]
  },
  {
   "cell_type": "code",
   "execution_count": null,
   "metadata": {},
   "outputs": [],
   "source": [
    "# Rescale\n",
    "train_images = train_images.astype(float) / 255\n",
    "test_images = test_images.astype(float) / 255\n",
    "\n",
    "train_images = np.expand_dims(train_images, -1)\n",
    "test_images = np.expand_dims(test_images, -1)\n",
    "print(\"train_images shape:\", train_images.shape)\n",
    "print(\"test_images shape:\", test_images.shape)"
   ]
  },
  {
   "cell_type": "markdown",
   "metadata": {},
   "source": [
    "The code block below visualises random examples from the training set."
   ]
  },
  {
   "cell_type": "code",
   "execution_count": null,
   "metadata": {},
   "outputs": [],
   "source": [
    "num_images = 10\n",
    "fig, axes = plt.subplots(figsize=(1.5*num_images, 1.5), ncols=num_images)\n",
    "sample_ids = np.random.choice(train_images.shape[0], size=num_images, replace=False)\n",
    "for i, s in enumerate(sample_ids):\n",
    "    axes[i].imshow(train_images[s,:,:,0], cmap='binary')\n",
    "    axes[i].set_title(\"$y = {}$\".format(train_labels[s]))\n",
    "    axes[i].axis('off')\n",
    "plt.show()"
   ]
  },
  {
   "cell_type": "markdown",
   "metadata": {},
   "source": [
    "Finally, we note that the training set is relatively balanced—there are roughly 6000 examples for each digit."
   ]
  },
  {
   "cell_type": "code",
   "execution_count": null,
   "metadata": {},
   "outputs": [],
   "source": [
    "plt.hist(train_labels, bins=range(11), align='left')\n",
    "plt.xticks(ticks=range(11))\n",
    "plt.title('Distribution of classes in training data')\n",
    "plt.ylabel('Frequency')\n",
    "plt.xlabel('Digit')\n",
    "plt.show()"
   ]
  },
  {
   "cell_type": "markdown",
   "metadata": {},
   "source": [
    "## 2. Multi-class logistic regression\n",
    "\n",
    "The handwritten digit recognition task is an example of a _multi-class_ classification problem. \n",
    "There are 10 classes—one for each digit $0, 1,\\ldots, 9$.\n",
    "We'll first tackle the problem by generalising binary logistic regression (from workshop 4), to handle _multiple classes_.\n",
    "\n",
    "Let the classes be denoted by integers $\\{1, \\ldots, C\\}$ (in our example $C = 10$).\n",
    "Treating class $C$ as a \"reference\", we assume a linear relationship between the feature vector $\\mathbf{x} \\in \\mathbb{R}^d$ and the log-odds of each class:\n",
    "\n",
    "$$\n",
    "\\log \\frac{p(y = c|\\mathbf{x})}{p(y = C|\\mathbf{x})} = \\mathbf{x}^\\top \\mathbf{w}_c + b_c\n",
    "$$\n",
    "\n",
    "where $\\mathbf{w}_c \\in \\mathbb{R}^d$ and $b_c \\in \\mathbb{R}$ are the weights and bias for class $c$.\n",
    "\n",
    "We can write this more compactly as\n",
    "\n",
    "$$\n",
    "\\begin{gather}\n",
    "    p(y = c|\\mathbf{x}) = \\operatorname{softmax}(\\mathbf{W} \\mathbf{x} + \\mathbf{b})_c = \\frac{\\exp \\left\\{-(\\mathbf{W} \\mathbf{x} + \\mathbf{b})_c \\right\\}}{\\sum_{c' = 1}^{C} \\exp \\left\\{-(\\mathbf{W} \\mathbf{x} + \\mathbf{b})_{c'} \\right\\}}\n",
    "\\end{gather}\n",
    "$$\n",
    "\n",
    "where $\\mathbf{W} = [\\mathbf{w}_1, \\ldots, \\mathbf{w}_C]^\\top$ and $\\mathbf{b} =[b_1, \\ldots, b_C]^\\top$.\n",
    "\n",
    "This model can be expressed in Keras as follows."
   ]
  },
  {
   "cell_type": "code",
   "execution_count": null,
   "metadata": {},
   "outputs": [],
   "source": [
    "lr = keras.Sequential(\n",
    "    [\n",
    "        layers.Input((28,28,1)),               # Tell Keras the shape of the input array (a single-channel 28×28 image)\n",
    "        layers.Flatten(),                      # Unravel/flatten the input array\n",
    "        layers.Dense(10, activation='softmax') # Add a fully-connected layer with a softmax activation function\n",
    "    ]\n",
    ")"
   ]
  },
  {
   "cell_type": "markdown",
   "metadata": {},
   "source": [
    "Next, we have to specify a loss function.\n",
    "As for binary logistic regression, we use the cross-entropy loss or log-loss:\n",
    "\n",
    "$$\n",
    "\\ell_\\mathrm{log}(y, \\boldsymbol{\\pi}) = - \\sum_{c = 1}^{C} \\mathbb{1}[y = c] \\log \\pi_c\n",
    "$$\n",
    "\n",
    "where $\\mathbb{1}[\\cdot]$ is the indicator function and $\\pi_c = \\operatorname{softmax}(\\mathbf{W} \\mathbf{x} + \\mathbf{b})$ is the estimate for $p(y = c|\\mathbf{x})$.\n",
    "\n",
    "The following code block prepares the `lr` model for training under the cross-entropy loss.\n",
    "It sets [Adam](https://en.wikipedia.org/wiki/Stochastic_gradient_descent#Adam) (Adaptive Moment Estimation) as the optimisation algorithm and directs Keras to keep track of accuracy during training."
   ]
  },
  {
   "cell_type": "code",
   "execution_count": null,
   "metadata": {},
   "outputs": [],
   "source": [
    "lr.compile(optimizer='adam',\n",
    "           loss=tf.keras.losses.SparseCategoricalCrossentropy(from_logits=False),\n",
    "           metrics=['accuracy'])"
   ]
  },
  {
   "cell_type": "markdown",
   "metadata": {},
   "source": [
    "We're now ready to fit the `lr` model using the training data. \n",
    "By setting `batch_size = 100`, each gradient descent step is computed w.r.t. a random batch of 100 training instances.\n",
    "By setting `epochs = 20`, we loop over the complete training data 20 times."
   ]
  },
  {
   "cell_type": "code",
   "execution_count": null,
   "metadata": {},
   "outputs": [],
   "source": [
    "history_lr = lr.fit(train_images, train_labels, epochs=20, batch_size=100, \n",
    "                    validation_data=(test_images, test_labels))"
   ]
  },
  {
   "cell_type": "markdown",
   "metadata": {},
   "source": [
    "The plots below show that the model fit is unlikely to improve significantly with further training. \n",
    "Both the test loss and accuracy have flattened out."
   ]
  },
  {
   "cell_type": "code",
   "execution_count": null,
   "metadata": {},
   "outputs": [],
   "source": [
    "plt.plot(history_lr.history['accuracy'], label='Train')\n",
    "plt.plot(history_lr.history['val_accuracy'], label='Test')\n",
    "plt.ylabel('Accuracy')\n",
    "plt.xlabel('Epoch')\n",
    "plt.title('Training and testing accuracy')\n",
    "plt.legend()\n",
    "plt.show()"
   ]
  },
  {
   "cell_type": "code",
   "execution_count": null,
   "metadata": {},
   "outputs": [],
   "source": [
    "plt.plot(history_lr.history['loss'], label='Train')\n",
    "plt.plot(history_lr.history['val_loss'], label='Test')\n",
    "plt.ylabel('Accuracy')\n",
    "plt.xlabel('Loss')\n",
    "plt.title('Training and testing loss')\n",
    "plt.legend()\n",
    "plt.show()"
   ]
  },
  {
   "cell_type": "markdown",
   "metadata": {},
   "source": [
    "## 3. Convolutional neural network (CNN)\n",
    "\n",
    "Let's see if we can improve on logistic regression using a CNN.\n",
    "\n",
    "For the convolutional layers, we follow the \"convolutional pyramid\" design principle—i.e. successive layers have decreasing spatial dimensions, but increasing depth. The reduction in the spatial dimensions is achieved via max pooling.\n",
    "\n",
    "After the convolutional layers, we add a densely-connected layer (effectively a logistic regression layer) which combines the higher-level features to make a classification.\n",
    "We also make use of [dropout](http://www.cs.toronto.edu/~rsalakhu/papers/srivastava14a.pdf) (a regularization method whereby random units are removed from the network) to prevent overfitting.\n",
    "\n",
    "<svg height=\"210\" width=\"500\">\n",
    "  <polygon points=\"200,10 250,190 160,210\" style=\"fill:lime;stroke:purple;stroke-width:1\" />\n",
    "</svg>\n",
    "\n",
    "### Architecture overview\n",
    "\n",
    "We describe the architecture in further detail below (figure generated [here](http://alexlenail.me/NN-SVG/AlexNet.html)).\n",
    "\n",
    "![CNN architecture](data:image/svg+xml;base64,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)\n",
    "\n",
    "| Number | Layer type    | Specification                                                                           | Keras function |\n",
    "|--------|---------------|-----------------------------------------------------------------------------------------|----------------|\n",
    "| 1      | Convolutional | 8 5×5 filters with a stride of 1 and a ReLU activation function                         | Conv2D         |\n",
    "| 2      | Pooling       | Max pooling with a 2×2 filter and a stride of 2 (implies pooled regions do not overlap) | MaxPooling2D   |\n",
    "| 3      | Convolutional | 16 5×5 filters with a stride of 1 and a ReLU activation function                        | Conv2D         |\n",
    "| 4      | Pooling       | Same specs as pooling layer #1                                                          | MaxPooling2D   |\n",
    "| 5      | Flatten       | Nil                                                                                     | Flatten        |\n",
    "| 6      | Dropout       | Randomly drops a fraction $r$ of the input units. We set $r=0.5$.                       | Dropout        |\n",
    "| 7      | Dense         | 10 units (one for each target class) with a softmax activation function.                | Dense          |\n",
    "\n",
    "***\n",
    "**Exercise:** Complete the code block below to instantiate the model in Keras. \n",
    "\n",
    "_Hint: you can check the documentation for a layer type (e.g. Conv2D) by entering `?layers.Conv2D`._\n",
    "***"
   ]
  },
  {
   "cell_type": "code",
   "execution_count": null,
   "metadata": {},
   "outputs": [],
   "source": [
    "cnn = keras.Sequential(\n",
    "    [\n",
    "        layers.Input((28, 28, 1)),\n",
    "        ..., # fill in\n",
    "        ..., # fill in\n",
    "        ..., # fill in\n",
    "        ..., # fill in\n",
    "        layers.Flatten(),\n",
    "        layers.Dropout(0.5),\n",
    "        layers.Dense(10, activation='softmax')\n",
    "    ], \n",
    ")"
   ]
  },
  {
   "cell_type": "markdown",
   "metadata": {},
   "source": [
    "We can get a useful summary of the model architecture using the `summary` method, as shown below."
   ]
  },
  {
   "cell_type": "code",
   "execution_count": null,
   "metadata": {
    "scrolled": true
   },
   "outputs": [],
   "source": [
    "cnn.summary()"
   ]
  },
  {
   "cell_type": "markdown",
   "metadata": {},
   "source": [
    "***\n",
    "**Question:** How many trainable parameters are there in the `cnn` model? How does this compare with the earlier `lr` model?\n",
    "***\n",
    "\n",
    "We prepare the `cnn` model for training using the same settings as for logistic regression."
   ]
  },
  {
   "cell_type": "code",
   "execution_count": null,
   "metadata": {},
   "outputs": [],
   "source": [
    "cnn.compile(optimizer='adam',\n",
    "            loss=tf.keras.losses.SparseCategoricalCrossentropy(from_logits=False),\n",
    "            metrics=['accuracy'])"
   ]
  },
  {
   "cell_type": "markdown",
   "metadata": {},
   "source": [
    "Training the `cnn` model takes roughly 20 times longer than training the `lr` model on a CPU. \n",
    "You may like to set the number of epochs to a smaller number (e.g. `epochs=10`) if you don't have much time to spare."
   ]
  },
  {
   "cell_type": "code",
   "execution_count": null,
   "metadata": {},
   "outputs": [],
   "source": [
    "history_cnn = cnn.fit(train_images, train_labels, epochs=20, batch_size=100, \n",
    "                      validation_data=(test_images, test_labels))"
   ]
  },
  {
   "cell_type": "markdown",
   "metadata": {},
   "source": [
    "Let's plot the accuracy and loss for each epoch, like we did for logistic regression."
   ]
  },
  {
   "cell_type": "code",
   "execution_count": null,
   "metadata": {},
   "outputs": [],
   "source": [
    "plt.plot(history_cnn.history['accuracy'], label='Train')\n",
    "plt.plot(history_cnn.history['val_accuracy'], label='Test')\n",
    "plt.ylabel('Accuracy')\n",
    "plt.xlabel('Epoch')\n",
    "plt.title('Training and testing accuracy')\n",
    "plt.legend()\n",
    "plt.show()"
   ]
  },
  {
   "cell_type": "code",
   "execution_count": null,
   "metadata": {},
   "outputs": [],
   "source": [
    "plt.plot(history_cnn.history['loss'], label='Train')\n",
    "plt.plot(history_cnn.history['val_loss'], label='Test')\n",
    "plt.ylabel('Accuracy')\n",
    "plt.xlabel('Loss')\n",
    "plt.title('Training and testing loss')\n",
    "plt.legend()\n",
    "plt.show()"
   ]
  },
  {
   "cell_type": "markdown",
   "metadata": {},
   "source": [
    "Both the training accuracy and loss appear to have stabilised, so it's unlikely the model will benefit from further epochs.\n",
    "\n",
    "***\n",
    "**Question:** Which model performs best for MNIST digit recognition? \n",
    "***"
   ]
  },
  {
   "cell_type": "markdown",
   "metadata": {},
   "source": [
    "## Bonus: Visualising filters (optional)\n",
    "\n",
    "CNNs learn filters that extract salient features from images, as they pass through the network. \n",
    "To understand how a CNN operates, it can be interesting to visualise the filters and their activations on input images.\n",
    "\n",
    "First, let's examine the layers in the `cnn` model."
   ]
  },
  {
   "cell_type": "code",
   "execution_count": null,
   "metadata": {},
   "outputs": [],
   "source": [
    "cnn.layers"
   ]
  },
  {
   "cell_type": "markdown",
   "metadata": {},
   "source": [
    "We'll take a look at the filters in the first convolutional layer, which is at index 0 in the list of layers.\n",
    "The `get_weights` method extracts the weights as numpy arrays."
   ]
  },
  {
   "cell_type": "code",
   "execution_count": null,
   "metadata": {},
   "outputs": [],
   "source": [
    "filters, biases = cnn.layers[0].get_weights()\n",
    "print(\"filters.shape:\", filters.shape)"
   ]
  },
  {
   "cell_type": "markdown",
   "metadata": {},
   "source": [
    "Below we visualise the 8 single-channel filters in the first convolutional layer. \n",
    "It's often possible to recognise filters that detect different types of strokes, e.g. diagonal, vertical etc. \n",
    "The specific filters learned may vary due to stochasticity in the weight initialisation and optimisation algorithm."
   ]
  },
  {
   "cell_type": "code",
   "execution_count": null,
   "metadata": {},
   "outputs": [],
   "source": [
    "fig, axes = plt.subplots(figsize=(8,4), nrows=2,ncols=4)\n",
    "for i, ax in enumerate(axes.flatten()):\n",
    "    ax.imshow(filters[:,:,0,i], cmap='binary')\n",
    "    ax.set_title(\"Filter {}\".format(i+1))\n",
    "    ax.set_xticks([])\n",
    "    ax.set_yticks([])\n",
    "plt.suptitle('Filters in first CNN layer')\n",
    "plt.show()"
   ]
  },
  {
   "cell_type": "markdown",
   "metadata": {},
   "source": [
    "We can also improve our understanding by examining the intermediate outputs of internal layers of the CNN. \n",
    "In the code block below, we demonstrate how to access the output of the first convolutional layer (with index 0). \\[Aside: you may like to visualise the output of deeper layers by changing the index.\\]\n",
    "\n",
    "Specifically, we define a new model that reuses the input of the `cnn` model, but truncates the output to the 0th layer."
   ]
  },
  {
   "cell_type": "code",
   "execution_count": null,
   "metadata": {},
   "outputs": [],
   "source": [
    "cnn_internal = keras.Model(inputs=cnn.input, outputs=cnn.layers[0].output)"
   ]
  },
  {
   "cell_type": "markdown",
   "metadata": {},
   "source": [
    "We then pass a single training example through the truncated model."
   ]
  },
  {
   "cell_type": "code",
   "execution_count": null,
   "metadata": {},
   "outputs": [],
   "source": [
    "# Get the first example from the training set\n",
    "training_example = np.expand_dims(train_images[0], 0)\n",
    "plt.imshow(training_example[0,:,:,0], cmap='binary')\n",
    "plt.axis('off')\n",
    "\n",
    "# Pass through the `cnn_internal` model\n",
    "activations = cnn_internal.predict(training_example)"
   ]
  },
  {
   "cell_type": "markdown",
   "metadata": {},
   "source": [
    "After passing an image through the first layer, we end up with an array of 8 24×24 single-channel images (one image for each filter). \n",
    "We can see that each filter is active on different parts of the image. \n",
    "For example in this particular run, the first filter is activating on diagonal strokes at the bottom-left edge."
   ]
  },
  {
   "cell_type": "code",
   "execution_count": null,
   "metadata": {},
   "outputs": [],
   "source": [
    "fig, axes = plt.subplots(figsize=(8,4), nrows=2,ncols=4)\n",
    "for i, ax in enumerate(axes.flatten()):\n",
    "    ax.imshow(activations[0,:,:,i], cmap='binary')\n",
    "    ax.set_title(\"Filter {}\".format(i+1))\n",
    "    ax.set_xticks([])\n",
    "    ax.set_yticks([])\n",
    "plt.suptitle('Activations in first CNN layer')\n",
    "plt.show()"
   ]
  }
 ],
 "metadata": {
  "kernelspec": {
   "display_name": "Python 3",
   "language": "python",
   "name": "python3"
  },
  "language_info": {
   "codemirror_mode": {
    "name": "ipython",
    "version": 3
   },
   "file_extension": ".py",
   "mimetype": "text/x-python",
   "name": "python",
   "nbconvert_exporter": "python",
   "pygments_lexer": "ipython3",
   "version": "3.8.3"
  }
 },
 "nbformat": 4,
 "nbformat_minor": 4
}
